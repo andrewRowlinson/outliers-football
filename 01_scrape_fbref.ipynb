{
 "cells": [
  {
   "cell_type": "code",
   "execution_count": null,
   "id": "fa4ff8d8-d530-4dd9-84c4-297eab68be23",
   "metadata": {
    "editable": true,
    "slideshow": {
     "slide_type": ""
    },
    "tags": []
   },
   "outputs": [],
   "source": [
    "from scrape_utils import stats_to_parquet, VALID_STATS\n",
    "import time\n",
    "import random"
   ]
  },
  {
   "cell_type": "code",
   "execution_count": null,
   "id": "8148b6a4-6abd-49ec-baf6-e84f70546bb6",
   "metadata": {
    "editable": true,
    "slideshow": {
     "slide_type": ""
    },
    "tags": []
   },
   "outputs": [],
   "source": [
    "def scrape_all(competition, years):\n",
    "    for year in years:\n",
    "        for stat in VALID_STATS:\n",
    "            stats_to_parquet(competition, year, stat)\n",
    "            time.sleep(random.randint(1, 10))"
   ]
  },
  {
   "cell_type": "code",
   "execution_count": null,
   "id": "0d8e8be6-38b7-4cc0-81e8-41b701f16c4c",
   "metadata": {
    "editable": true,
    "slideshow": {
     "slide_type": ""
    },
    "tags": []
   },
   "outputs": [],
   "source": [
    "scrape_all('argentina1', [2022, 2023, 2024])"
   ]
  },
  {
   "cell_type": "code",
   "execution_count": null,
   "id": "a5ab6652-6630-4fcb-9fcf-3096abc6cc40",
   "metadata": {
    "editable": true,
    "slideshow": {
     "slide_type": ""
    },
    "tags": []
   },
   "outputs": [],
   "source": [
    "scrape_all('brazil1', [2022, 2023, 2024])"
   ]
  },
  {
   "cell_type": "code",
   "execution_count": null,
   "id": "5b0ad7d5-ecfb-4f42-998b-9ad6d202db1a",
   "metadata": {
    "editable": true,
    "slideshow": {
     "slide_type": ""
    },
    "tags": []
   },
   "outputs": [],
   "source": [
    "scrape_all('belgium1', [2022, 2023, 2024])"
   ]
  },
  {
   "cell_type": "code",
   "execution_count": null,
   "id": "75d091d3-4f02-43fd-9f53-0fdadc5501c9",
   "metadata": {
    "editable": true,
    "slideshow": {
     "slide_type": ""
    },
    "tags": []
   },
   "outputs": [],
   "source": [
    "scrape_all('england1', [2022, 2023, 2024])"
   ]
  },
  {
   "cell_type": "code",
   "execution_count": null,
   "id": "c189fe5b-a519-445f-9d47-0f29d3375e42",
   "metadata": {
    "editable": true,
    "slideshow": {
     "slide_type": ""
    },
    "tags": []
   },
   "outputs": [],
   "source": [
    "scrape_all('england2', [2022, 2023, 2024])"
   ]
  },
  {
   "cell_type": "code",
   "execution_count": null,
   "id": "0b6ba365-823b-4db7-a1d3-a975632795a0",
   "metadata": {
    "editable": true,
    "slideshow": {
     "slide_type": ""
    },
    "tags": []
   },
   "outputs": [],
   "source": [
    "scrape_all('france1', [2022, 2023, 2024])"
   ]
  },
  {
   "cell_type": "code",
   "execution_count": null,
   "id": "b69d4049-a82f-4bdd-83e9-bcf94abbbf8a",
   "metadata": {
    "editable": true,
    "slideshow": {
     "slide_type": ""
    },
    "tags": []
   },
   "outputs": [],
   "source": [
    "scrape_all('france2', [2022, 2023, 2024])"
   ]
  },
  {
   "cell_type": "code",
   "execution_count": null,
   "id": "3b928189-596e-4bb1-b533-60f381293f52",
   "metadata": {
    "editable": true,
    "slideshow": {
     "slide_type": ""
    },
    "tags": []
   },
   "outputs": [],
   "source": [
    "scrape_all('germany1', [2022, 2023, 2024])"
   ]
  },
  {
   "cell_type": "code",
   "execution_count": null,
   "id": "bd6c02ec-ae1a-441f-81d7-920fc47b4ffb",
   "metadata": {
    "editable": true,
    "slideshow": {
     "slide_type": ""
    },
    "tags": []
   },
   "outputs": [],
   "source": [
    "scrape_all('germany2', [2022, 2023, 2024])"
   ]
  },
  {
   "cell_type": "code",
   "execution_count": null,
   "id": "d5d81772-4f34-4eb9-9b0a-3c27d2e49a98",
   "metadata": {
    "editable": true,
    "slideshow": {
     "slide_type": ""
    },
    "tags": []
   },
   "outputs": [],
   "source": [
    "scrape_all('italy1', [2022, 2023, 2024])"
   ]
  },
  {
   "cell_type": "code",
   "execution_count": null,
   "id": "8fae0cbb-f332-4715-aad5-d644aabe5762",
   "metadata": {
    "editable": true,
    "slideshow": {
     "slide_type": ""
    },
    "tags": []
   },
   "outputs": [],
   "source": [
    "scrape_all('italy2', [2022, 2023, 2024])"
   ]
  },
  {
   "cell_type": "code",
   "execution_count": null,
   "id": "9f3fc8f8-3c6a-42bc-80dc-573ce6c88cdc",
   "metadata": {
    "editable": true,
    "slideshow": {
     "slide_type": ""
    },
    "tags": []
   },
   "outputs": [],
   "source": [
    "scrape_all('mexico1', [2022, 2023, 2024])"
   ]
  },
  {
   "cell_type": "code",
   "execution_count": null,
   "id": "e9658e0f-e115-4273-816c-4e211b4ee9fc",
   "metadata": {
    "editable": true,
    "slideshow": {
     "slide_type": ""
    },
    "tags": []
   },
   "outputs": [],
   "source": [
    "scrape_all('netherlands1', [2022, 2023, 2024])"
   ]
  },
  {
   "cell_type": "code",
   "execution_count": null,
   "id": "ac9751ed-88f9-4c10-938c-3a9411bbcea4",
   "metadata": {
    "editable": true,
    "slideshow": {
     "slide_type": ""
    },
    "tags": []
   },
   "outputs": [],
   "source": [
    "scrape_all('portugal1', [2022, 2023, 2024])"
   ]
  },
  {
   "cell_type": "code",
   "execution_count": null,
   "id": "accd61c0-775c-49d4-a387-6465cdbc70d9",
   "metadata": {
    "editable": true,
    "slideshow": {
     "slide_type": ""
    },
    "tags": []
   },
   "outputs": [],
   "source": [
    "scrape_all('spain1', [2022, 2023, 2024])"
   ]
  },
  {
   "cell_type": "code",
   "execution_count": null,
   "id": "52ea4a91-cba5-4fe4-b400-247a08bea3bc",
   "metadata": {
    "editable": true,
    "slideshow": {
     "slide_type": ""
    },
    "tags": []
   },
   "outputs": [],
   "source": [
    "scrape_all('spain2', [2022, 2023, 2024])"
   ]
  },
  {
   "cell_type": "code",
   "execution_count": null,
   "id": "bc1cbb3f-c9ce-4410-a560-7d27fb516795",
   "metadata": {
    "editable": true,
    "slideshow": {
     "slide_type": ""
    },
    "tags": []
   },
   "outputs": [],
   "source": [
    "scrape_all('usa1', [2022, 2023, 2024])"
   ]
  }
 ],
 "metadata": {
  "kernelspec": {
   "display_name": "Python 3 (ipykernel)",
   "language": "python",
   "name": "python3"
  },
  "language_info": {
   "codemirror_mode": {
    "name": "ipython",
    "version": 3
   },
   "file_extension": ".py",
   "mimetype": "text/x-python",
   "name": "python",
   "nbconvert_exporter": "python",
   "pygments_lexer": "ipython3",
   "version": "3.12.4"
  }
 },
 "nbformat": 4,
 "nbformat_minor": 5
}
