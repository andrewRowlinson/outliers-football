{
 "cells": [
  {
   "cell_type": "code",
   "execution_count": 1,
   "metadata": {},
   "outputs": [],
   "source": [
    "import requests\n",
    "from bs4 import BeautifulSoup\n",
    "import pandas as pd\n",
    "import numpy as np\n",
    "import time\n",
    "import os\n",
    "from scrape_utils import get_fbref_big5"
   ]
  },
  {
   "cell_type": "markdown",
   "metadata": {},
   "source": [
    "# Scrape fbref big-5 league data"
   ]
  },
  {
   "cell_type": "markdown",
   "metadata": {},
   "source": [
    "There are several different pages for the big five leagues. Scrape them in a loop and save them as parquet files <br>\n",
    "First the current season:"
   ]
  },
  {
   "cell_type": "code",
   "execution_count": 2,
   "metadata": {},
   "outputs": [
    {
     "name": "stdout",
     "output_type": "stream",
     "text": [
      "Finished: stats-20\n",
      "Finished: shooting-20\n",
      "Finished: passing-20\n",
      "Finished: passing_types-20\n",
      "Finished: defence-20\n",
      "Finished: gca-20\n",
      "Finished: possession-20\n",
      "Finished: playingtime-20\n",
      "Finished: misc-20\n"
     ]
    }
   ],
   "source": [
    "urls = ['https://fbref.com/en/comps/Big5/stats/players/Big-5-European-Leagues-Stats',\n",
    "        'https://fbref.com/en/comps/Big5/shooting/players/Big-5-European-Leagues-Stats',\n",
    "        'https://fbref.com/en/comps/Big5/passing/players/Big-5-European-Leagues-Stats',\n",
    "        'https://fbref.com/en/comps/Big5/passing_types/players/Big-5-European-Leagues-Stats',\n",
    "        'https://fbref.com/en/comps/Big5/defense/players/Big-5-European-Leagues-Stats',\n",
    "        'https://fbref.com/en/comps/Big5/gca/players/Big-5-European-Leagues-Stats',\n",
    "        'https://fbref.com/en/comps/Big5/possession/players/Big-5-European-Leagues-Stats',\n",
    "        'https://fbref.com/en/comps/Big5/playingtime/players/Big-5-European-Leagues-Stats',\n",
    "        'https://fbref.com/en/comps/Big5/misc/players/Big-5-European-Leagues-Stats']\n",
    "\n",
    "out = ['stats-20', 'shooting-20', 'passing-20', 'passing_types-20',\n",
    "       'defence-20', 'gca-20', 'possession-20', 'playingtime-20', 'misc-20']\n",
    "\n",
    "for i, url in enumerate(urls):\n",
    "    df = get_fbref_big5(url)\n",
    "    df.to_parquet(os.path.join('data', 'fbref', f'fbref_{out[i]}.parquet'))\n",
    "    print(f'Finished: {out[i]}')\n",
    "    time.sleep(60)"
   ]
  },
  {
   "cell_type": "markdown",
   "metadata": {},
   "source": [
    "Then historical data:"
   ]
  },
  {
   "cell_type": "code",
   "execution_count": 3,
   "metadata": {},
   "outputs": [
    {
     "name": "stdout",
     "output_type": "stream",
     "text": [
      "Finished: stats-19\n",
      "Finished: shooting-19\n",
      "Finished: passing-19\n",
      "Finished: passing_types-19\n",
      "Finished: defence-19\n",
      "Finished: gca-19\n",
      "Finished: possession-19\n",
      "Finished: playingtime-19\n",
      "Finished: misc-19\n",
      "Finished: stats-18\n",
      "Finished: shooting-18\n",
      "Finished: passing-18\n",
      "Finished: passing_types-18\n",
      "Finished: defence-18\n",
      "Finished: gca-18\n",
      "Finished: possession-18\n",
      "Finished: playingtime-18\n",
      "Finished: misc-18\n"
     ]
    }
   ],
   "source": [
    "urls = ['https://fbref.com/en/comps/Big5/2019-2020/stats/players/2019-2020-Big-5-European-Leagues-Stats',\n",
    "        'https://fbref.com/en/comps/Big5/2019-2020/shooting/players/2019-2020-Big-5-European-Leagues-Stats',\n",
    "        'https://fbref.com/en/comps/Big5/2019-2020/passing/players/2019-2020-Big-5-European-Leagues-Stats',\n",
    "        'https://fbref.com/en/comps/Big5/2019-2020/passing_types/players/2019-2020-Big-5-European-Leagues-Stats',\n",
    "        'https://fbref.com/en/comps/Big5/2019-2020/defense/players/2019-2020-Big-5-European-Leagues-Stats',\n",
    "        'https://fbref.com/en/comps/Big5/2019-2020/gca/players/2019-2020-Big-5-European-Leagues-Stats',\n",
    "        'https://fbref.com/en/comps/Big5/2019-2020/possession/players/2019-2020-Big-5-European-Leagues-Stats',\n",
    "        'https://fbref.com/en/comps/Big5/2019-2020/playingtime/players/2019-2020-Big-5-European-Leagues-Stats',\n",
    "        'https://fbref.com/en/comps/Big5/2019-2020/misc/players/2019-2020-Big-5-European-Leagues-Stats']\n",
    "urls.extend([url.replace('2019-2020', '2018-2019') for url in urls])\n",
    "\n",
    "out = ['stats-19', 'shooting-19', 'passing-19', 'passing_types-19',\n",
    "       'defence-19', 'gca-19', 'possession-19', 'playingtime-19', 'misc-19']\n",
    "out.extend([o.replace('19', '18') for o in out])\n",
    "\n",
    "for i, url in enumerate(urls):\n",
    "    df = get_fbref_big5(url)\n",
    "    df.to_parquet(os.path.join('data', 'fbref', f'fbref_{out[i]}.parquet'))\n",
    "    print(f'Finished: {out[i]}')\n",
    "    time.sleep(60)"
   ]
  }
 ],
 "metadata": {
  "kernelspec": {
   "display_name": "Python 3 (ipykernel)",
   "language": "python",
   "name": "python3"
  },
  "language_info": {
   "codemirror_mode": {
    "name": "ipython",
    "version": 3
   },
   "file_extension": ".py",
   "mimetype": "text/x-python",
   "name": "python",
   "nbconvert_exporter": "python",
   "pygments_lexer": "ipython3",
   "version": "3.7.7"
  }
 },
 "nbformat": 4,
 "nbformat_minor": 4
}
