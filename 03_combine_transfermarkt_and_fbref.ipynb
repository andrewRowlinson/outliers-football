{
 "cells": [
  {
   "cell_type": "markdown",
   "metadata": {},
   "source": [
    "The notebooks combines the data. It excludes anyone who has played fewer than 675 minutes and who is no longer at a club in the top-5 league. To be in the initial dataset the player also have played in the 2020-21 season in the big-5 leagues."
   ]
  },
  {
   "cell_type": "code",
   "execution_count": 1,
   "metadata": {},
   "outputs": [],
   "source": [
    "import pandas as pd\n",
    "import numpy as np\n",
    "import os\n",
    "import fuzzymatcher\n",
    "from scrape_utils import get_fbref_player_dob\n",
    "import time"
   ]
  },
  {
   "cell_type": "markdown",
   "metadata": {},
   "source": [
    "# Loading fbref data"
   ]
  },
  {
   "cell_type": "code",
   "execution_count": 2,
   "metadata": {},
   "outputs": [
    {
     "ename": "OSError",
     "evalue": "NotImplemented: Support for codec 'snappy' not built",
     "output_type": "error",
     "traceback": [
      "\u001b[1;31m---------------------------------------------------------------------------\u001b[0m",
      "\u001b[1;31mOSError\u001b[0m                                   Traceback (most recent call last)",
      "\u001b[1;32m<ipython-input-2-ecd946a3a206>\u001b[0m in \u001b[0;36m<module>\u001b[1;34m\u001b[0m\n\u001b[1;32m----> 1\u001b[1;33m \u001b[0mdf\u001b[0m \u001b[1;33m=\u001b[0m \u001b[0mpd\u001b[0m\u001b[1;33m.\u001b[0m\u001b[0mread_parquet\u001b[0m\u001b[1;33m(\u001b[0m\u001b[0mos\u001b[0m\u001b[1;33m.\u001b[0m\u001b[0mpath\u001b[0m\u001b[1;33m.\u001b[0m\u001b[0mjoin\u001b[0m\u001b[1;33m(\u001b[0m\u001b[1;34m'data'\u001b[0m\u001b[1;33m,\u001b[0m \u001b[1;34m'fbref_combined.parquet'\u001b[0m\u001b[1;33m)\u001b[0m\u001b[1;33m)\u001b[0m\u001b[1;33m\u001b[0m\u001b[1;33m\u001b[0m\u001b[0m\n\u001b[0m\u001b[0;32m      2\u001b[0m \u001b[0mdf\u001b[0m\u001b[1;33m[\u001b[0m\u001b[1;34m'player_name'\u001b[0m\u001b[1;33m]\u001b[0m \u001b[1;33m=\u001b[0m \u001b[0mdf\u001b[0m\u001b[1;33m.\u001b[0m\u001b[0mplayer\u001b[0m\u001b[1;33m.\u001b[0m\u001b[0mstr\u001b[0m\u001b[1;33m.\u001b[0m\u001b[0mreplace\u001b[0m\u001b[1;33m(\u001b[0m\u001b[1;34m\"'\"\u001b[0m\u001b[1;33m,\u001b[0m \u001b[1;34m\"\"\u001b[0m\u001b[1;33m)\u001b[0m\u001b[1;33m\u001b[0m\u001b[1;33m\u001b[0m\u001b[0m\n",
      "\u001b[1;32m~\\Anaconda3\\envs\\young-outliers\\lib\\site-packages\\pandas\\io\\parquet.py\u001b[0m in \u001b[0;36mread_parquet\u001b[1;34m(path, engine, columns, use_nullable_dtypes, **kwargs)\u001b[0m\n\u001b[0;32m    458\u001b[0m     \u001b[0mimpl\u001b[0m \u001b[1;33m=\u001b[0m \u001b[0mget_engine\u001b[0m\u001b[1;33m(\u001b[0m\u001b[0mengine\u001b[0m\u001b[1;33m)\u001b[0m\u001b[1;33m\u001b[0m\u001b[1;33m\u001b[0m\u001b[0m\n\u001b[0;32m    459\u001b[0m     return impl.read(\n\u001b[1;32m--> 460\u001b[1;33m         \u001b[0mpath\u001b[0m\u001b[1;33m,\u001b[0m \u001b[0mcolumns\u001b[0m\u001b[1;33m=\u001b[0m\u001b[0mcolumns\u001b[0m\u001b[1;33m,\u001b[0m \u001b[0muse_nullable_dtypes\u001b[0m\u001b[1;33m=\u001b[0m\u001b[0muse_nullable_dtypes\u001b[0m\u001b[1;33m,\u001b[0m \u001b[1;33m**\u001b[0m\u001b[0mkwargs\u001b[0m\u001b[1;33m\u001b[0m\u001b[1;33m\u001b[0m\u001b[0m\n\u001b[0m\u001b[0;32m    461\u001b[0m     )\n",
      "\u001b[1;32m~\\Anaconda3\\envs\\young-outliers\\lib\\site-packages\\pandas\\io\\parquet.py\u001b[0m in \u001b[0;36mread\u001b[1;34m(self, path, columns, use_nullable_dtypes, storage_options, **kwargs)\u001b[0m\n\u001b[0;32m    220\u001b[0m         \u001b[1;32mtry\u001b[0m\u001b[1;33m:\u001b[0m\u001b[1;33m\u001b[0m\u001b[1;33m\u001b[0m\u001b[0m\n\u001b[0;32m    221\u001b[0m             return self.api.parquet.read_table(\n\u001b[1;32m--> 222\u001b[1;33m                 \u001b[0mpath_or_handle\u001b[0m\u001b[1;33m,\u001b[0m \u001b[0mcolumns\u001b[0m\u001b[1;33m=\u001b[0m\u001b[0mcolumns\u001b[0m\u001b[1;33m,\u001b[0m \u001b[1;33m**\u001b[0m\u001b[0mkwargs\u001b[0m\u001b[1;33m\u001b[0m\u001b[1;33m\u001b[0m\u001b[0m\n\u001b[0m\u001b[0;32m    223\u001b[0m             ).to_pandas(**to_pandas_kwargs)\n\u001b[0;32m    224\u001b[0m         \u001b[1;32mfinally\u001b[0m\u001b[1;33m:\u001b[0m\u001b[1;33m\u001b[0m\u001b[1;33m\u001b[0m\u001b[0m\n",
      "\u001b[1;32m~\\Anaconda3\\envs\\young-outliers\\lib\\site-packages\\pyarrow\\parquet.py\u001b[0m in \u001b[0;36mread_table\u001b[1;34m(source, columns, use_threads, metadata, use_pandas_metadata, memory_map, read_dictionary, filesystem, filters, buffer_size, partitioning, use_legacy_dataset, ignore_prefixes)\u001b[0m\n\u001b[0;32m   1702\u001b[0m \u001b[1;33m\u001b[0m\u001b[0m\n\u001b[0;32m   1703\u001b[0m         return dataset.read(columns=columns, use_threads=use_threads,\n\u001b[1;32m-> 1704\u001b[1;33m                             use_pandas_metadata=use_pandas_metadata)\n\u001b[0m\u001b[0;32m   1705\u001b[0m \u001b[1;33m\u001b[0m\u001b[0m\n\u001b[0;32m   1706\u001b[0m     \u001b[1;32mif\u001b[0m \u001b[0mignore_prefixes\u001b[0m \u001b[1;32mis\u001b[0m \u001b[1;32mnot\u001b[0m \u001b[1;32mNone\u001b[0m\u001b[1;33m:\u001b[0m\u001b[1;33m\u001b[0m\u001b[1;33m\u001b[0m\u001b[0m\n",
      "\u001b[1;32m~\\Anaconda3\\envs\\young-outliers\\lib\\site-packages\\pyarrow\\parquet.py\u001b[0m in \u001b[0;36mread\u001b[1;34m(self, columns, use_threads, use_pandas_metadata)\u001b[0m\n\u001b[0;32m   1580\u001b[0m         table = self._dataset.to_table(\n\u001b[0;32m   1581\u001b[0m             \u001b[0mcolumns\u001b[0m\u001b[1;33m=\u001b[0m\u001b[0mcolumns\u001b[0m\u001b[1;33m,\u001b[0m \u001b[0mfilter\u001b[0m\u001b[1;33m=\u001b[0m\u001b[0mself\u001b[0m\u001b[1;33m.\u001b[0m\u001b[0m_filter_expression\u001b[0m\u001b[1;33m,\u001b[0m\u001b[1;33m\u001b[0m\u001b[1;33m\u001b[0m\u001b[0m\n\u001b[1;32m-> 1582\u001b[1;33m             \u001b[0muse_threads\u001b[0m\u001b[1;33m=\u001b[0m\u001b[0muse_threads\u001b[0m\u001b[1;33m\u001b[0m\u001b[1;33m\u001b[0m\u001b[0m\n\u001b[0m\u001b[0;32m   1583\u001b[0m         )\n\u001b[0;32m   1584\u001b[0m \u001b[1;33m\u001b[0m\u001b[0m\n",
      "\u001b[1;32m~\\Anaconda3\\envs\\young-outliers\\lib\\site-packages\\pyarrow\\_dataset.pyx\u001b[0m in \u001b[0;36mpyarrow._dataset.Dataset.to_table\u001b[1;34m()\u001b[0m\n",
      "\u001b[1;32m~\\Anaconda3\\envs\\young-outliers\\lib\\site-packages\\pyarrow\\_dataset.pyx\u001b[0m in \u001b[0;36mpyarrow._dataset.Scanner.to_table\u001b[1;34m()\u001b[0m\n",
      "\u001b[1;32m~\\Anaconda3\\envs\\young-outliers\\lib\\site-packages\\pyarrow\\error.pxi\u001b[0m in \u001b[0;36mpyarrow.lib.pyarrow_internal_check_status\u001b[1;34m()\u001b[0m\n",
      "\u001b[1;32m~\\Anaconda3\\envs\\young-outliers\\lib\\site-packages\\pyarrow\\error.pxi\u001b[0m in \u001b[0;36mpyarrow.lib.check_status\u001b[1;34m()\u001b[0m\n",
      "\u001b[1;31mOSError\u001b[0m: NotImplemented: Support for codec 'snappy' not built"
     ]
    }
   ],
   "source": [
    "df = pd.read_parquet(os.path.join('data', 'fbref_combined.parquet'))\n",
    "df['player_name'] = df.player.str.replace(\"'\", \"\")"
   ]
  },
  {
   "cell_type": "markdown",
   "metadata": {},
   "source": [
    "# Filter players with 7.5 90s or over (675 minutes)"
   ]
  },
  {
   "cell_type": "code",
   "execution_count": 3,
   "metadata": {},
   "outputs": [],
   "source": [
    "df = df[df.playing_time_min >= 675].copy()"
   ]
  },
  {
   "cell_type": "markdown",
   "metadata": {},
   "source": [
    "# Loading transfermarkt data"
   ]
  },
  {
   "cell_type": "code",
   "execution_count": 4,
   "metadata": {},
   "outputs": [],
   "source": [
    "df_tm = pd.read_parquet(os.path.join('data', 'players_transfermarket.parquet'))\n",
    "df_tm['born'] = df_tm.dob.dt.year\n",
    "df_tm['player_name'] = df_tm.player.str.replace(\"'\", \"\")\n",
    "#df_tm_2020 = df_tm[df_tm.year == '2020'].copy()\n",
    "#df_tm = df_tm[df_tm.year == '2019'].copy()"
   ]
  },
  {
   "cell_type": "markdown",
   "metadata": {},
   "source": [
    "# Deduplicate transfermarkt data"
   ]
  },
  {
   "cell_type": "code",
   "execution_count": 5,
   "metadata": {},
   "outputs": [],
   "source": [
    "df_tm.sort_values('joined', inplace=True)\n",
    "df_tm.drop_duplicates('player_link', inplace=True, keep='last')"
   ]
  },
  {
   "cell_type": "markdown",
   "metadata": {},
   "source": [
    "# Adding on fbref squad name to transfermarkt data"
   ]
  },
  {
   "cell_type": "code",
   "execution_count": 6,
   "metadata": {},
   "outputs": [],
   "source": [
    "# replacing some team names\n",
    "team_replace = {'Borussia Mönchengladbach': \"M'gladbach\",\n",
    "                'Stade Rennais FC': 'Rennes',\n",
    "                'AC Milan': 'Milan',\n",
    "                'Inter Milan': 'Inter',\n",
    "                'West Bromwich Albion': 'West Brom',\n",
    "                'West Ham United': 'West Ham',\n",
    "                'Wolverhampton Wanderers': 'Wolves'}\n",
    "df_tm.team_name.replace(team_replace, inplace=True)\n",
    "# matching team names\n",
    "df_team1 = pd.DataFrame(df.squad.drop_duplicates().reset_index(drop=True))\n",
    "df_team2 = pd.DataFrame(df_tm.team_name.drop_duplicates().reset_index(drop=True))\n",
    "df_team_match = fuzzymatcher.fuzzy_left_join(df_team1,\n",
    "                                             df_team2,\n",
    "                                             left_on=['squad'],\n",
    "                                             right_on=['team_name'])\n",
    "df_team_match = df_team_match[['team_name', 'squad']].copy()\n",
    "# add on fbref squad name to transfermarkt data\n",
    "df_tm = df_tm.merge(df_team_match, on='team_name')"
   ]
  },
  {
   "cell_type": "markdown",
   "metadata": {},
   "source": [
    "# Matching fbref top-5 table to transfermarkt data"
   ]
  },
  {
   "cell_type": "code",
   "execution_count": 7,
   "metadata": {},
   "outputs": [
    {
     "name": "stdout",
     "output_type": "stream",
     "text": [
      "Number matched: 2025 Number unmatched: 81\n"
     ]
    }
   ],
   "source": [
    "# merging based on player name and year of birth\n",
    "df_player_match = fuzzymatcher.fuzzy_left_join(df[['player_name', 'player_link', 'pos', 'squad', 'born']],\n",
    "                                               df_tm,\n",
    "                                               left_on=['player_name', 'born'],\n",
    "                                               right_on=['player_name', 'born'],\n",
    "                                               left_id_col='player_link',\n",
    "                                               right_id_col='player_link')\n",
    "# rules for splitting matches and non-matches\n",
    "mask_match1 = ((df_player_match.squad_left == df_player_match.squad_right) & \n",
    "               ((abs(df_player_match.born_left - df_player_match.born_right) <= 4) | (df_player_match.born_left.isnull())) &\n",
    "               (df_player_match.best_match_score > -0.04))\n",
    "mask_match2 = ((df_player_match.squad_left != df_player_match.squad_right) & \n",
    "               (df_player_match.born_left == df_player_match.born_right) &\n",
    "               (df_player_match.best_match_score >= 0.1))\n",
    "matched = df_player_match[mask_match1 | mask_match2].copy()\n",
    "matched.sort_values('best_match_score', inplace=True)\n",
    "matched.drop_duplicates('__id_right', keep='last', inplace=True)\n",
    "not_matched = df[~df.player_link.isin(matched.__id_left)]\n",
    "print('Number matched:', len(matched), 'Number unmatched:', len(not_matched))"
   ]
  },
  {
   "cell_type": "markdown",
   "metadata": {},
   "source": [
    "# For unmatched data matching get the more detailed biographical data from fbref (player name and dob)"
   ]
  },
  {
   "cell_type": "code",
   "execution_count": 8,
   "metadata": {},
   "outputs": [],
   "source": [
    "#links = not_matched.player_link.tolist()\n",
    "#links2 = [f'https://fbref.com{s}' for s in links]"
   ]
  },
  {
   "cell_type": "code",
   "execution_count": 9,
   "metadata": {
    "scrolled": true
   },
   "outputs": [],
   "source": [
    "#names_list = []\n",
    "#dob_list = []\n",
    "#squad_list = []\n",
    "#for url in links2:\n",
    "#    name, dob, squad = get_fbref_player_dob(url)\n",
    "#    names_list.append(name)\n",
    "#    dob_list.append(dob)\n",
    "#    squad_list.append(squad)\n",
    "#    time.sleep(30)\n",
    "#df_name_dob = pd.DataFrame({'player_link': links, 'player': names_list, 'dob': dob_list, 'squad': squad_list})\n",
    "#df_name_dob.to_parquet(os.path.join('data', 'fbref_name_dob.parquet'))"
   ]
  },
  {
   "cell_type": "code",
   "execution_count": 10,
   "metadata": {},
   "outputs": [],
   "source": [
    "df_name_dob = pd.read_parquet(os.path.join('data', 'fbref_name_dob.parquet'))"
   ]
  },
  {
   "cell_type": "markdown",
   "metadata": {},
   "source": [
    "# Merge on the more detailed biographical data"
   ]
  },
  {
   "cell_type": "code",
   "execution_count": 11,
   "metadata": {},
   "outputs": [
    {
     "name": "stdout",
     "output_type": "stream",
     "text": [
      "Number matched: 12 Number unmatched: 69\n"
     ]
    }
   ],
   "source": [
    "# merging based on player name and date of birth\n",
    "df_player_match2 = fuzzymatcher.fuzzy_left_join(df_name_dob,\n",
    "                                                df_tm,\n",
    "                                                left_on=['player', 'dob'],\n",
    "                                                right_on=['player_name', 'dob'],\n",
    "                                                left_id_col='player_link',\n",
    "                                                right_id_col='player_link')\n",
    "# rules for splitting matches and non-matches\n",
    "mask_match = (df_player_match2['best_match_score'] > 0) & (df_player_match2['dob_left'] == df_player_match2['dob_right'])\n",
    "matched2 = df_player_match2[mask_match].copy()\n",
    "not_matched2 = df_player_match2[~mask_match].copy()\n",
    "print('Number matched:', len(matched2), 'Number unmatched:', len(not_matched2))"
   ]
  },
  {
   "cell_type": "markdown",
   "metadata": {},
   "source": [
    "# Get un-matched still in top-5 leagues"
   ]
  },
  {
   "cell_type": "code",
   "execution_count": 12,
   "metadata": {},
   "outputs": [
    {
     "name": "stdout",
     "output_type": "stream",
     "text": [
      "Number unmatched (outside the big 5 leagues):  60\n",
      "Number unmatched (playing in big 5 leagues):  9\n"
     ]
    }
   ],
   "source": [
    "not_matched2_big5 = not_matched2[not_matched2.squad_left.isin(df_team_match.squad)]\n",
    "not_matched2_outside_big5 = not_matched2[~not_matched2.squad_left.isin(df_team_match.squad)]\n",
    "print('Number unmatched (outside the big 5 leagues): ', len(not_matched2_outside_big5))\n",
    "print('Number unmatched (playing in big 5 leagues): ', len(not_matched2_big5))"
   ]
  },
  {
   "cell_type": "markdown",
   "metadata": {},
   "source": [
    "# I have manually found the links for 7 of the remaining 9 unmatched players in the big 5 leagues through google search/ str lookups (the other 2 have left the league)"
   ]
  },
  {
   "cell_type": "code",
   "execution_count": 13,
   "metadata": {},
   "outputs": [],
   "source": [
    "fb_links = ['/en/players/80dbbd10/Simeon-Nwankwo',\n",
    "            '/en/players/faed84db/Uros-Racic',\n",
    "            '/en/players/eac044ad/Moanes-Dabour',\n",
    "            '/en/players/3423f250/Raphael-Dias-Belloli',\n",
    "            #'/en/players/d14229f3/Adrien-Hunou',\n",
    "            '/en/players/c6e8cf1f/Sasa-Lukic',\n",
    "            #'/en/players/2054d037/MBaye-Niang',\n",
    "            '/en/players/3ae14ed1/Trezeguet',\n",
    "            '/en/players/79443529/Dusan-Vlahovic']\n",
    "tm_links = ['/simy/profil/spieler/194549',\n",
    "            '/uros-racic/profil/spieler/417575',\n",
    "            '/munas-dabbur/profil/spieler/145866',\n",
    "            '/raphinha/profil/spieler/411295',\n",
    "            #'/adrien-hunou/profil/spieler/203507',\n",
    "            '/sasa-lukic/profil/spieler/245056',\n",
    "            #'/mbaye-niang/profil/spieler/157501',\n",
    "            '/trezeguet/profil/spieler/234189',\n",
    "            '/dusan-vlahovic/profil/spieler/357498']\n",
    "matched3 = pd.DataFrame({'player_link_left': fb_links, 'player_link_right': tm_links})"
   ]
  },
  {
   "cell_type": "markdown",
   "metadata": {},
   "source": [
    "# Combine matches into a single table of links"
   ]
  },
  {
   "cell_type": "code",
   "execution_count": 14,
   "metadata": {},
   "outputs": [
    {
     "name": "stdout",
     "output_type": "stream",
     "text": [
      "Check no duplicated fbref links: 0\n",
      "Check no duplicated transfermarkt links: 0\n",
      "Check there are the same players in each dataset (i.e. the symmetric difference is empty): {'/en/players/d14229f3/Adrien-Hunou', '/en/players/2054d037/MBaye-Niang'}\n",
      "Number of matched: 2044\n"
     ]
    }
   ],
   "source": [
    "all_matched = pd.concat([matched3,\n",
    "                         matched2[['player_link_left', 'player_link_right']],\n",
    "                         matched[['player_link_left', 'player_link_right']]])\n",
    "all_matched.rename({'player_link_left': 'player_link_fbref', 'player_link_right': 'player_link_tm'},\n",
    "                   axis='columns', inplace=True)\n",
    "print('Check no duplicated fbref links:', all_matched.duplicated('player_link_fbref', keep=False).sum())\n",
    "print('Check no duplicated transfermarkt links:', all_matched.duplicated('player_link_tm', keep=False).sum())\n",
    "print('Check there are the same players in each dataset (i.e. the symmetric difference is empty):',\n",
    "      set(all_matched.player_link_fbref).symmetric_difference(set(df.player_link)) \n",
    "      - set(not_matched2_outside_big5.player_link_left)) # remove players who are not playing in the big-5 leagues currently\n",
    "print('Number of matched:', len(all_matched))"
   ]
  },
  {
   "cell_type": "markdown",
   "metadata": {},
   "source": [
    "# Filter matched datasets"
   ]
  },
  {
   "cell_type": "code",
   "execution_count": 17,
   "metadata": {},
   "outputs": [
    {
     "name": "stdout",
     "output_type": "stream",
     "text": [
      "2044 2044\n"
     ]
    }
   ],
   "source": [
    "df_tm = df_tm[df_tm.player_link.isin(all_matched.player_link_tm)].copy()\n",
    "df = df[df.player_link.isin(all_matched.player_link_fbref)].copy()\n",
    "print(len(df_tm), len(df))"
   ]
  },
  {
   "cell_type": "markdown",
   "metadata": {},
   "source": [
    "# Calculate age at 1st December 2020"
   ]
  },
  {
   "cell_type": "code",
   "execution_count": 18,
   "metadata": {},
   "outputs": [],
   "source": [
    "df_tm['age_at_2021_04_01'] =  np.round((pd.to_datetime('2021-04-01') - df_tm.dob).dt.days / 365.25, 1)"
   ]
  },
  {
   "cell_type": "markdown",
   "metadata": {},
   "source": [
    "# Format and save dataframe"
   ]
  },
  {
   "cell_type": "code",
   "execution_count": 22,
   "metadata": {},
   "outputs": [],
   "source": [
    "df_tm.drop(['team_name', 'player_name', 'transfer_details', 'born', 'signed_from_link'], axis='columns', inplace=True)\n",
    "df_tm['year'] = pd.to_numeric(df_tm.year, errors='coerce')\n",
    "df.rename({'year': 'market_value_year'}, axis='columns', inplace=True)\n",
    "cols = df_tm.columns\n",
    "df_tm.columns = [c+'_tm' for c in cols]\n",
    "df_tm = df_tm.merge(all_matched, how='inner', validate='1:1', on='player_link_tm')\n",
    "df.rename({'player_link': 'player_link_fbref'}, axis='columns', inplace=True)\n",
    "df.drop('player_name', axis='columns', inplace=True)\n",
    "df = df_tm.merge(df, how='right', on='player_link_fbref', validate='1:1')\n",
    "df.to_parquet(os.path.join('data', 'fbref_tm_combined.parquet'))"
   ]
  },
  {
   "cell_type": "code",
   "execution_count": 23,
   "metadata": {
    "scrolled": false
   },
   "outputs": [
    {
     "name": "stdout",
     "output_type": "stream",
     "text": [
      "<class 'pandas.core.frame.DataFrame'>\n",
      "Int64Index: 2044 entries, 0 to 2043\n",
      "Data columns (total 173 columns):\n",
      " #   Column                         Non-Null Count  Dtype         \n",
      "---  ------                         --------------  -----         \n",
      " 0   number_tm                      2044 non-null   float64       \n",
      " 1   player_tm                      2044 non-null   object        \n",
      " 2   position_tm                    2044 non-null   object        \n",
      " 3   height_tm                      2044 non-null   float64       \n",
      " 4   foot_tm                        2044 non-null   object        \n",
      " 5   joined_tm                      2043 non-null   datetime64[ns]\n",
      " 6   contract_expires_tm            2023 non-null   datetime64[ns]\n",
      " 7   market_value_euro_millions_tm  2044 non-null   float64       \n",
      " 8   league_tm                      2044 non-null   object        \n",
      " 9   player_link_tm                 2044 non-null   object        \n",
      " 10  year_tm                        2044 non-null   int64         \n",
      " 11  dob_tm                         2044 non-null   datetime64[ns]\n",
      " 12  squad_tm                       2044 non-null   object        \n",
      " 13  age_at_2021_04_01_tm           2044 non-null   float64       \n",
      " 14  player_link_fbref              2044 non-null   object        \n",
      " 15  player                         2044 non-null   object        \n",
      " 16  nation                         2044 non-null   object        \n",
      " 17  pos                            2044 non-null   object        \n",
      " 18  squad                          2044 non-null   object        \n",
      " 19  comp                           2044 non-null   object        \n",
      " 20  match_link                     2044 non-null   object        \n",
      " 21  90s                            2044 non-null   float64       \n",
      " 22  born                           2044 non-null   float64       \n",
      " 23  playing_time_mp                2044 non-null   float64       \n",
      " 24  playing_time_min               2044 non-null   float64       \n",
      " 25  starts_starts                  2044 non-null   float64       \n",
      " 26  starts_compl                   2044 non-null   float64       \n",
      " 27  subs_subs                      2044 non-null   float64       \n",
      " 28  subs_unsub                     2044 non-null   float64       \n",
      " 29  team_success_ong               2044 non-null   float64       \n",
      " 30  team_success_onga              2044 non-null   float64       \n",
      " 31  team_success_+/-               2044 non-null   float64       \n",
      " 32  team_success_(xg)_onxg         2043 non-null   float64       \n",
      " 33  team_success_(xg)_onxga        2043 non-null   float64       \n",
      " 34  team_success_(xg)_xg+/-        2043 non-null   float64       \n",
      " 35  tackles_tkl                    2043 non-null   float64       \n",
      " 36  tackles_tklw                   2044 non-null   float64       \n",
      " 37  tackles_def_3rd                2043 non-null   float64       \n",
      " 38  tackles_mid_3rd                2043 non-null   float64       \n",
      " 39  tackles_att_3rd                2043 non-null   float64       \n",
      " 40  vs_dribbles_tkl                2043 non-null   float64       \n",
      " 41  vs_dribbles_att                2043 non-null   float64       \n",
      " 42  vs_dribbles_past               2043 non-null   float64       \n",
      " 43  pressures_press                2043 non-null   float64       \n",
      " 44  pressures_succ                 2043 non-null   float64       \n",
      " 45  pressures_def_3rd              2043 non-null   float64       \n",
      " 46  pressures_mid_3rd              2043 non-null   float64       \n",
      " 47  pressures_att_3rd              2043 non-null   float64       \n",
      " 48  blocks_blocks                  2043 non-null   float64       \n",
      " 49  blocks_sh                      2043 non-null   float64       \n",
      " 50  blocks_shsv                    2043 non-null   float64       \n",
      " 51  blocks_pass                    2043 non-null   float64       \n",
      " 52  int                            2044 non-null   float64       \n",
      " 53  tkl+int                        2043 non-null   float64       \n",
      " 54  clr                            2043 non-null   float64       \n",
      " 55  err                            2043 non-null   float64       \n",
      " 56  sca_sca                        2043 non-null   float64       \n",
      " 57  sca_types_passlive             2043 non-null   float64       \n",
      " 58  sca_types_passdead             2043 non-null   float64       \n",
      " 59  sca_types_drib                 2043 non-null   float64       \n",
      " 60  sca_types_sh                   2043 non-null   float64       \n",
      " 61  sca_types_fld                  2043 non-null   float64       \n",
      " 62  sca_types_def                  2043 non-null   float64       \n",
      " 63  gca_gca                        2043 non-null   float64       \n",
      " 64  gca_types_passlive             2043 non-null   float64       \n",
      " 65  gca_types_passdead             2043 non-null   float64       \n",
      " 66  gca_types_drib                 2043 non-null   float64       \n",
      " 67  gca_types_sh                   2043 non-null   float64       \n",
      " 68  gca_types_fld                  2043 non-null   float64       \n",
      " 69  gca_types_def                  2043 non-null   float64       \n",
      " 70  gca_types_og                   2043 non-null   float64       \n",
      " 71  performance_crdy               2044 non-null   float64       \n",
      " 72  performance_crdr               2044 non-null   float64       \n",
      " 73  performance_2crdy              2044 non-null   float64       \n",
      " 74  performance_fls                2044 non-null   float64       \n",
      " 75  performance_fld                2044 non-null   float64       \n",
      " 76  performance_off                2044 non-null   float64       \n",
      " 77  performance_pkwon              2043 non-null   float64       \n",
      " 78  performance_pkcon              2043 non-null   float64       \n",
      " 79  performance_og                 2044 non-null   float64       \n",
      " 80  performance_recov              2043 non-null   float64       \n",
      " 81  aerial_duels_won               2043 non-null   float64       \n",
      " 82  aerial_duels_lost              2043 non-null   float64       \n",
      " 83  total_cmp                      2043 non-null   float64       \n",
      " 84  total_att                      2043 non-null   float64       \n",
      " 85  total_totdist                  2043 non-null   float64       \n",
      " 86  total_prgdist                  2043 non-null   float64       \n",
      " 87  short_cmp                      2043 non-null   float64       \n",
      " 88  short_att                      2043 non-null   float64       \n",
      " 89  medium_cmp                     2043 non-null   float64       \n",
      " 90  medium_att                     2043 non-null   float64       \n",
      " 91  long_cmp                       2043 non-null   float64       \n",
      " 92  long_att                       2043 non-null   float64       \n",
      " 93  ast                            2044 non-null   float64       \n",
      " 94  xa                             2043 non-null   float64       \n",
      " 95  a-xa                           2043 non-null   float64       \n",
      " 96  kp                             2043 non-null   float64       \n",
      " 97  1/3                            2043 non-null   float64       \n",
      " 98  ppa                            2043 non-null   float64       \n",
      " 99  crspa                          2043 non-null   float64       \n",
      " 100 prog                           2043 non-null   float64       \n",
      " 101 pass_types_live                2043 non-null   float64       \n",
      " 102 pass_types_dead                2043 non-null   float64       \n",
      " 103 pass_types_fk                  2043 non-null   float64       \n",
      " 104 pass_types_tb                  2043 non-null   float64       \n",
      " 105 pass_types_press               2043 non-null   float64       \n",
      " 106 pass_types_sw                  2043 non-null   float64       \n",
      " 107 pass_types_crs                 2044 non-null   float64       \n",
      " 108 pass_types_ck                  2043 non-null   float64       \n",
      " 109 corner_kicks_in                2043 non-null   float64       \n",
      " 110 corner_kicks_out               2043 non-null   float64       \n",
      " 111 corner_kicks_str               2043 non-null   float64       \n",
      " 112 height_ground                  2043 non-null   float64       \n",
      " 113 height_low                     2043 non-null   float64       \n",
      " 114 height_high                    2043 non-null   float64       \n",
      " 115 body_parts_left                2043 non-null   float64       \n",
      " 116 body_parts_right               2043 non-null   float64       \n",
      " 117 body_parts_head                2043 non-null   float64       \n",
      " 118 body_parts_ti                  2043 non-null   float64       \n",
      " 119 body_parts_other               2043 non-null   float64       \n",
      " 120 outcomes_off                   2043 non-null   float64       \n",
      " 121 outcomes_out                   2043 non-null   float64       \n",
      " 122 outcomes_int                   2043 non-null   float64       \n",
      " 123 outcomes_blocks                2043 non-null   float64       \n",
      " 124 touches_touches                2043 non-null   float64       \n",
      " 125 touches_def_pen                2043 non-null   float64       \n",
      " 126 touches_def_3rd                2043 non-null   float64       \n",
      " 127 touches_mid_3rd                2043 non-null   float64       \n",
      " 128 touches_att_3rd                2043 non-null   float64       \n",
      " 129 touches_att_pen                2043 non-null   float64       \n",
      " 130 touches_live                   2043 non-null   float64       \n",
      " 131 dribbles_succ                  2043 non-null   float64       \n",
      " 132 dribbles_att                   2043 non-null   float64       \n",
      " 133 dribbles_#pl                   2043 non-null   float64       \n",
      " 134 dribbles_megs                  2043 non-null   float64       \n",
      " 135 carries_carries                2043 non-null   float64       \n",
      " 136 carries_totdist                2043 non-null   float64       \n",
      " 137 carries_prgdist                2043 non-null   float64       \n",
      " 138 carries_prog                   2043 non-null   float64       \n",
      " 139 carries_1/3                    2043 non-null   float64       \n",
      " 140 carries_cpa                    2043 non-null   float64       \n",
      " 141 carries_mis                    2043 non-null   float64       \n",
      " 142 carries_dis                    2043 non-null   float64       \n",
      " 143 receiving_targ                 2043 non-null   float64       \n",
      " 144 receiving_rec                  2043 non-null   float64       \n",
      " 145 receiving_prog                 2043 non-null   float64       \n",
      " 146 standard_gls                   2044 non-null   float64       \n",
      " 147 standard_sh                    2044 non-null   float64       \n",
      " 148 standard_sot                   2044 non-null   float64       \n",
      " 149 standard_fk                    2043 non-null   float64       \n",
      " 150 standard_pk                    2044 non-null   float64       \n",
      " 151 standard_pkatt                 2044 non-null   float64       \n",
      " 152 expected_xg                    2043 non-null   float64       \n",
      " 153 expected_npxg                  2043 non-null   float64       \n",
      " 154 expected_g-xg                  2043 non-null   float64       \n",
      " 155 expected_np:g-xg               2043 non-null   float64       \n",
      " 156 performance_g-pk               2044 non-null   float64       \n",
      " 157 expected_npxg+xa               2043 non-null   float64       \n",
      " 158 standard_dist                  2044 non-null   float64       \n",
      " 159 vs_dribbles_tkl%               2023 non-null   float64       \n",
      " 160 pressures_%                    2037 non-null   float64       \n",
      " 161 aerial_duels_won%              1932 non-null   float64       \n",
      " 162 total_cmp%                     2043 non-null   float64       \n",
      " 163 short_cmp%                     2043 non-null   float64       \n",
      " 164 medium_cmp%                    2043 non-null   float64       \n",
      " 165 long_cmp%                      2043 non-null   float64       \n",
      " 166 playing_time_mn/mp             2044 non-null   float64       \n",
      " 167 dribbles_succ%                 1973 non-null   float64       \n",
      " 168 receiving_rec%                 2043 non-null   float64       \n",
      " 169 standard_g/sh                  1417 non-null   float64       \n",
      " 170 expected_npxg/sh               1417 non-null   float64       \n",
      " 171 standard_g/sot                 1353 non-null   float64       \n",
      " 172 standard_sot%                  1417 non-null   float64       \n",
      "dtypes: datetime64[ns](3), float64(156), int64(1), object(13)\n",
      "memory usage: 2.7+ MB\n"
     ]
    }
   ],
   "source": [
    "df.info(verbose=True, null_counts=True)"
   ]
  }
 ],
 "metadata": {
  "kernelspec": {
   "display_name": "Python 3",
   "language": "python",
   "name": "python3"
  },
  "language_info": {
   "codemirror_mode": {
    "name": "ipython",
    "version": 3
   },
   "file_extension": ".py",
   "mimetype": "text/x-python",
   "name": "python",
   "nbconvert_exporter": "python",
   "pygments_lexer": "ipython3",
   "version": "3.7.10"
  }
 },
 "nbformat": 4,
 "nbformat_minor": 4
}
