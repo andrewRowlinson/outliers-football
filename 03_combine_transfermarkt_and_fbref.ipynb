{
 "cells": [
  {
   "cell_type": "code",
   "execution_count": null,
   "metadata": {},
   "outputs": [],
   "source": [
    "import pandas as pd\n",
    "import numpy as np\n",
    "import os\n",
    "import fuzzymatcher\n",
    "from scrape_utils import get_fbref_player_dob\n",
    "import time"
   ]
  },
  {
   "cell_type": "markdown",
   "metadata": {},
   "source": [
    "# Loading fbref data"
   ]
  },
  {
   "cell_type": "code",
   "execution_count": null,
   "metadata": {},
   "outputs": [],
   "source": [
    "df = pd.read_parquet(os.path.join('data', 'fbref_combined.parquet'))\n",
    "df['player_name'] = df.player.str.replace(\"'\", \"\")"
   ]
  },
  {
   "cell_type": "markdown",
   "metadata": {},
   "source": [
    "# Filter players with over 700 minutes"
   ]
  },
  {
   "cell_type": "code",
   "execution_count": null,
   "metadata": {},
   "outputs": [],
   "source": [
    "df = df[df.playing_time_min >= 700].copy()"
   ]
  },
  {
   "cell_type": "markdown",
   "metadata": {},
   "source": [
    "# Loading transfermarkt data"
   ]
  },
  {
   "cell_type": "code",
   "execution_count": null,
   "metadata": {},
   "outputs": [],
   "source": [
    "df_tm = pd.read_parquet(os.path.join('data', 'players_transfermarket.parquet'))\n",
    "df_tm = pd.read_parquet(os.path.join('data', 'players_transfermarket.parquet'))\n",
    "df_tm['born'] = df_tm.dob.dt.year\n",
    "df_tm['player_name'] = df_tm.player.str.replace(\"'\", \"\")\n",
    "#df_tm_2020 = df_tm[df_tm.year == '2020'].copy()\n",
    "#df_tm = df_tm[df_tm.year == '2019'].copy()"
   ]
  },
  {
   "cell_type": "markdown",
   "metadata": {},
   "source": [
    "# Deduplicate transfermarkt data"
   ]
  },
  {
   "cell_type": "code",
   "execution_count": null,
   "metadata": {},
   "outputs": [],
   "source": [
    "df_tm.sort_values('joined', inplace=True)\n",
    "df_tm.drop_duplicates('player_link', inplace=True, keep='last')"
   ]
  },
  {
   "cell_type": "markdown",
   "metadata": {},
   "source": [
    "# Adding on fbref squad name to transfermarkt data"
   ]
  },
  {
   "cell_type": "code",
   "execution_count": null,
   "metadata": {},
   "outputs": [],
   "source": [
    "# replacing some team names\n",
    "team_replace = {'Borussia Mönchengladbach': \"M'gladbach\",\n",
    "                'Stade Rennais FC': 'Rennes',\n",
    "                'AC Milan': 'Milan',\n",
    "                'Inter Milan': 'Inter',\n",
    "                'West Bromwich Albion': 'West Brom',\n",
    "                'West Ham United': 'West Ham',\n",
    "                'Wolverhampton Wanderers': 'Wolves'}\n",
    "df_tm.team_name.replace(team_replace, inplace=True)\n",
    "# matching team names\n",
    "df_team1 = pd.DataFrame(df.squad.drop_duplicates().reset_index(drop=True))\n",
    "df_team2 = pd.DataFrame(df_tm.team_name.drop_duplicates().reset_index(drop=True))\n",
    "df_team_match = fuzzymatcher.fuzzy_left_join(df_team1,\n",
    "                                             df_team2,\n",
    "                                             left_on=['squad'],\n",
    "                                             right_on=['team_name'])\n",
    "df_team_match = df_team_match[['team_name', 'squad']].copy()\n",
    "# add on fbref squad name to transfermarkt data\n",
    "df_tm = df_tm.merge(df_team_match, on='team_name')"
   ]
  },
  {
   "cell_type": "markdown",
   "metadata": {},
   "source": [
    "# Matching fbref top-5 table to transfermarkt data"
   ]
  },
  {
   "cell_type": "code",
   "execution_count": null,
   "metadata": {},
   "outputs": [],
   "source": [
    "# merging based on player name and year of birth\n",
    "df_player_match = fuzzymatcher.fuzzy_left_join(df[['player_name', 'player_link', 'pos', 'squad', 'born']],\n",
    "                                               df_tm,\n",
    "                                               left_on=['player_name', 'born'],\n",
    "                                               right_on=['player_name', 'born'],\n",
    "                                               left_id_col='player_link',\n",
    "                                               right_id_col='player_link')\n",
    "# rules for splitting matches and non-matches\n",
    "mask_match1 = ((df_player_match.squad_left == df_player_match.squad_right) & \n",
    "               ((abs(df_player_match.born_left - df_player_match.born_right) <= 4) | (df_player_match.born_left.isnull())) &\n",
    "               (df_player_match.best_match_score > -0.04))\n",
    "mask_match2 = ((df_player_match.squad_left != df_player_match.squad_right) & \n",
    "               (df_player_match.born_left == df_player_match.born_right) &\n",
    "               (df_player_match.best_match_score >= 0.1))\n",
    "matched = df_player_match[mask_match1 | mask_match2].copy()\n",
    "matched.sort_values('best_match_score', inplace=True)\n",
    "matched.drop_duplicates('__id_right', keep='last', inplace=True)\n",
    "not_matched = df[~df.player_link.isin(matched.__id_left)]\n",
    "print('Number matched:', len(matched), 'Number unmatched:', len(not_matched))"
   ]
  },
  {
   "cell_type": "markdown",
   "metadata": {},
   "source": [
    "# For unmatched data matching get the more detailed biographical data from fbref (player name and dob)"
   ]
  },
  {
   "cell_type": "code",
   "execution_count": null,
   "metadata": {},
   "outputs": [],
   "source": [
    "#links = not_matched.player_link.tolist()\n",
    "#links2 = [f'https://fbref.com{s}' for s in links]"
   ]
  },
  {
   "cell_type": "code",
   "execution_count": null,
   "metadata": {
    "scrolled": true
   },
   "outputs": [],
   "source": [
    "#names_list = []\n",
    "#dob_list = []\n",
    "#squad_list = []\n",
    "#for url in links2:\n",
    "#    name, dob, squad = get_fbref_player_dob(url)\n",
    "#    names_list.append(name)\n",
    "#    dob_list.append(dob)\n",
    "#    squad_list.append(squad)\n",
    "#    time.sleep(30)\n",
    "#df_name_dob = pd.DataFrame({'player_link': links, 'player': names_list, 'dob': dob_list, 'squad': squad_list})\n",
    "#df_name_dob.to_parquet(os.path.join('data', 'fbref_name_dob.parquet'))"
   ]
  },
  {
   "cell_type": "code",
   "execution_count": null,
   "metadata": {},
   "outputs": [],
   "source": [
    "df_name_dob = pd.read_parquet(os.path.join('data', 'fbref_name_dob.parquet'))"
   ]
  },
  {
   "cell_type": "markdown",
   "metadata": {},
   "source": [
    "# Merge on the more detailed biographical data"
   ]
  },
  {
   "cell_type": "code",
   "execution_count": null,
   "metadata": {},
   "outputs": [],
   "source": [
    "# merging based on player name and date of birth\n",
    "df_player_match2 = fuzzymatcher.fuzzy_left_join(df_name_dob,\n",
    "                                                df_tm,\n",
    "                                                left_on=['player', 'dob'],\n",
    "                                                right_on=['player_name', 'dob'],\n",
    "                                                left_id_col='player_link',\n",
    "                                                right_id_col='player_link')\n",
    "# rules for splitting matches and non-matches\n",
    "mask_match = (df_player_match2['best_match_score'] > 0) & (df_player_match2['dob_left'] == df_player_match2['dob_right'])\n",
    "matched2 = df_player_match2[mask_match].copy()\n",
    "not_matched2 = df_player_match2[~mask_match].copy()\n",
    "print('Number matched:', len(matched2), 'Number unmatched:', len(not_matched2))"
   ]
  },
  {
   "cell_type": "markdown",
   "metadata": {},
   "source": [
    "# Get un-matched still in top-5 leagues"
   ]
  },
  {
   "cell_type": "code",
   "execution_count": null,
   "metadata": {},
   "outputs": [],
   "source": [
    "not_matched2_big5 = not_matched2[not_matched2.squad_left.isin(df_team_match.squad)]\n",
    "not_matched2_outside_big5 = not_matched2[~not_matched2.squad_left.isin(df_team_match.squad)]\n",
    "print('Number unmatched (outside the big 5 leagues): ', len(not_matched2_outside_big5))\n",
    "print('Number unmatched (playing in big 5 leagues): ', len(not_matched2_big5))"
   ]
  },
  {
   "cell_type": "markdown",
   "metadata": {},
   "source": [
    "# I have manually found the links for the remaining (7) unmatched players in the big 5 leagues through google search/ str lookups"
   ]
  },
  {
   "cell_type": "code",
   "execution_count": null,
   "metadata": {},
   "outputs": [],
   "source": [
    "fb_links = ['/en/players/3423f250/Raphael-Dias-Belloli', '/en/players/c6e8cf1f/Sasa-Lukic',\n",
    "            '/en/players/79443529/Dusan-Vlahovic', '/en/players/3ae14ed1/Trezeguet',            \n",
    "            '/en/players/80dbbd10/Simeon-Nwankwo', '/en/players/a5ae8f8e/Milos-Veljkovic',\n",
    "            '/en/players/eac044ad/Moanes-Dabour']\n",
    "tm_links = ['/raphinha/profil/spieler/411295', '/sasa-lukic/profil/spieler/245056',\n",
    "            '/dusan-vlahovic/profil/spieler/357498', '/trezeguet/profil/spieler/234189',\n",
    "            '/simy/profil/spieler/194549', '/milos-veljkovic/profil/spieler/202228',\n",
    "            '/munas-dabbur/profil/spieler/145866']\n",
    "matched3 = pd.DataFrame({'player_link_left': fb_links, 'player_link_right': tm_links})"
   ]
  },
  {
   "cell_type": "markdown",
   "metadata": {},
   "source": [
    "# Combine matches into a single table of links"
   ]
  },
  {
   "cell_type": "code",
   "execution_count": null,
   "metadata": {},
   "outputs": [],
   "source": [
    "all_matched = pd.concat([matched3,\n",
    "                         matched2[['player_link_left', 'player_link_right']],\n",
    "                         matched[['player_link_left', 'player_link_right']]])\n",
    "all_matched.rename({'player_link_left': 'player_link_fbref', 'player_link_right': 'player_link_tm'},\n",
    "                   axis='columns', inplace=True)\n",
    "print('Check no duplicated fbref links:', all_matched.duplicated('player_link_fbref', keep=False).sum())\n",
    "print('Check no duplicated transfermarkt links:', all_matched.duplicated('player_link_tm', keep=False).sum())\n",
    "print('Check there are the same players in each dataset (i.e. the symmetric difference is empty):',\n",
    "      set(all_matched.player_link_fbref).symmetric_difference(set(df.player_link)) \n",
    "      - set(not_matched2_outside_big5.player_link_left)) # remove players who are not playing in the big-5 leagues currently"
   ]
  },
  {
   "cell_type": "markdown",
   "metadata": {},
   "source": [
    "# Filter matched datasets"
   ]
  },
  {
   "cell_type": "code",
   "execution_count": null,
   "metadata": {},
   "outputs": [],
   "source": [
    "df_tm = df_tm[df_tm.player_link.isin(all_matched.player_link_tm)].copy()\n",
    "df = df[df.player_link.isin(all_matched.player_link_fbref)].copy()"
   ]
  },
  {
   "cell_type": "markdown",
   "metadata": {},
   "source": [
    "# Calculate age at 1st December 2020"
   ]
  },
  {
   "cell_type": "code",
   "execution_count": null,
   "metadata": {},
   "outputs": [],
   "source": [
    "df_tm['age_at_2020_12_01'] =  np.round((pd.to_datetime('2020-12-01') - df_tm.dob).dt.days / 365.25, 1)"
   ]
  },
  {
   "cell_type": "markdown",
   "metadata": {},
   "source": [
    "# Format and save dataframe"
   ]
  },
  {
   "cell_type": "code",
   "execution_count": null,
   "metadata": {},
   "outputs": [],
   "source": [
    "df_tm.drop(['team_name', 'player_name', 'transfer_details', 'born', 'signed_from_link'], axis='columns', inplace=True)\n",
    "df_tm['year'] = pd.to_numeric(df_tm.year, errors='coerce')\n",
    "df.rename({'year': 'market_value_year'}, axis='columns', inplace=True)\n",
    "cols = df_tm.columns\n",
    "df_tm.columns = [c+'_tm' for c in cols]\n",
    "df_tm = df_tm.merge(all_matched, how='inner', validate='1:1', on='player_link_tm')\n",
    "df.rename({'player_link': 'player_link_fbref'}, axis='columns', inplace=True)\n",
    "df.drop('player_name', axis='columns', inplace=True)\n",
    "df = df_tm.merge(df, how='right', on='player_link_fbref', validate='1:1')\n",
    "df.to_parquet(os.path.join('data', 'fbref_tm_combined.parquet'))"
   ]
  }
 ],
 "metadata": {
  "kernelspec": {
   "display_name": "Python 3",
   "language": "python",
   "name": "python3"
  },
  "language_info": {
   "codemirror_mode": {
    "name": "ipython",
    "version": 3
   },
   "file_extension": ".py",
   "mimetype": "text/x-python",
   "name": "python",
   "nbconvert_exporter": "python",
   "pygments_lexer": "ipython3",
   "version": "3.7.7"
  }
 },
 "nbformat": 4,
 "nbformat_minor": 4
}
