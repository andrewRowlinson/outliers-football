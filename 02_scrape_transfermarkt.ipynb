{
 "cells": [
  {
   "cell_type": "code",
   "execution_count": null,
   "metadata": {
    "editable": true,
    "slideshow": {
     "slide_type": ""
    },
    "tags": []
   },
   "outputs": [],
   "source": [
    "import requests\n",
    "from bs4 import BeautifulSoup\n",
    "import pandas as pd\n",
    "import numpy as np\n",
    "import time\n",
    "import os\n",
    "import random\n",
    "from scrape_utils import get_tm_team_links, get_tm_team_squad"
   ]
  },
  {
   "cell_type": "code",
   "execution_count": null,
   "metadata": {},
   "outputs": [],
   "source": [
    "TEAMS_DIR = os.path.join('data', 'transfermarkt', 'teams')\n",
    "PLAYERS_DIR = os.path.join('data', 'transfermarkt', 'players')\n",
    "os.makedirs(TEAMS_DIR, exist_ok=True)\n",
    "os.makedirs(PLAYERS_DIR, exist_ok=True)"
   ]
  },
  {
   "cell_type": "markdown",
   "metadata": {},
   "source": [
    "# Get the links for each football team in the leagues for the 2023-24 season"
   ]
  },
  {
   "cell_type": "code",
   "execution_count": null,
   "metadata": {},
   "outputs": [],
   "source": [
    "league_urls = ['https://www.transfermarkt.com/bundesliga/startseite/wettbewerb/L1/plus/?saison_id=2023',\n",
    "               'https://www.transfermarkt.com/2-bundesliga/startseite/wettbewerb/L2/plus/?saison_id=2023',\n",
    "               'https://www.transfermarkt.com/premier-league/startseite/wettbewerb/GB1/plus/?saison_id=2023',\n",
    "               'https://www.transfermarkt.com/championship/startseite/wettbewerb/GB2/plus/?saison_id=2023',\n",
    "               'https://www.transfermarkt.com/serie-a/startseite/wettbewerb/IT1/plus/?saison_id=2023',\n",
    "               'https://www.transfermarkt.com/serie-b/startseite/wettbewerb/IT2/plus/?saison_id=2023',\n",
    "               'https://www.transfermarkt.com/laliga/startseite/wettbewerb/ES1/plus/?saison_id=2023',\n",
    "               'https://www.transfermarkt.com/laliga2/startseite/wettbewerb/ES2/plus/?saison_id=2023',\n",
    "               'https://www.transfermarkt.com/ligue-1/startseite/wettbewerb/FR1/plus/?saison_id=2023',\n",
    "               'https://www.transfermarkt.com/ligue-2/startseite/wettbewerb/FR2/plus/?saison_id=2023',\n",
    "               'https://www.transfermarkt.com/eredivisie/startseite/wettbewerb/NL1/plus/?saison_id=2023',\n",
    "               'https://www.transfermarkt.com/jupiler-pro-league/startseite/wettbewerb/BE1/plus/?saison_id=2023',\n",
    "               'https://www.transfermarkt.com/liga-nos/startseite/wettbewerb/PO1/plus/?saison_id=2023',\n",
    "               'https://www.transfermarkt.com/major-league-soccer/startseite/wettbewerb/MLS1/plus/?saison_id=2023',\n",
    "               'https://www.transfermarkt.com/campeonato-brasileiro-serie-a/startseite/wettbewerb/BRA1/plus/?saison_id=2023',\n",
    "               'https://www.transfermarkt.com/liga-mx-clausura/startseite/wettbewerb/MEX1/plus/?saison_id=2023',\n",
    "               'https://www.transfermarkt.com/superliga/startseite/wettbewerb/AR1N/plus/?saison_id=2023',\n",
    "              ]\n",
    "team_links = []\n",
    "team_league = []\n",
    "years = []\n",
    "for url in league_urls:\n",
    "    links = get_tm_team_links(url)\n",
    "    team_links.extend(links)\n",
    "    team_league.extend([url.split('/')[3]] * len(links))\n",
    "    years.extend([int(url[-4:]) + 1] * len(links))\n",
    "    time.sleep(random.randint(2, 5))\n",
    "\n",
    "team_links = [s.replace('spielplan', 'kader') for s in team_links] \n",
    "team_links = [f'{l}/plus/1' for l in team_links]\n",
    "df_links = pd.DataFrame({'league': team_league, 'year': years, 'url': team_links})\n",
    "df_links.to_parquet(os.path.join(TEAMS_DIR, 'teams.parquet'))"
   ]
  },
  {
   "cell_type": "markdown",
   "metadata": {},
   "source": [
    "# Get squad data"
   ]
  },
  {
   "cell_type": "code",
   "execution_count": null,
   "metadata": {},
   "outputs": [],
   "source": [
    "df_links = pd.read_parquet(os.path.join(TEAMS_DIR, 'teams.parquet'))\n",
    "print(len(df_links))"
   ]
  },
  {
   "cell_type": "code",
   "execution_count": null,
   "metadata": {
    "scrolled": true
   },
   "outputs": [],
   "source": [
    "for index, row in df_links.iterrows():\n",
    "    df_squad = get_tm_team_squad(row.url)\n",
    "    df_squad['year'] = row.year\n",
    "    df_squad['league'] = row.league\n",
    "    FILE_NAME = f'{row.url.split(\"/\")[3]}.parquet'\n",
    "    df_squad.to_parquet(os.path.join(PLAYERS_DIR, FILE_NAME))\n",
    "    time.sleep(random.randint(2, 5))"
   ]
  }
 ],
 "metadata": {
  "kernelspec": {
   "display_name": "Python 3 (ipykernel)",
   "language": "python",
   "name": "python3"
  },
  "language_info": {
   "codemirror_mode": {
    "name": "ipython",
    "version": 3
   },
   "file_extension": ".py",
   "mimetype": "text/x-python",
   "name": "python",
   "nbconvert_exporter": "python",
   "pygments_lexer": "ipython3",
   "version": "3.12.4"
  }
 },
 "nbformat": 4,
 "nbformat_minor": 4
}
