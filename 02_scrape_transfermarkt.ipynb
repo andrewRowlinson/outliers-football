{
 "cells": [
  {
   "cell_type": "code",
   "execution_count": 1,
   "metadata": {},
   "outputs": [],
   "source": [
    "import requests\n",
    "from bs4 import BeautifulSoup\n",
    "import pandas as pd\n",
    "import numpy as np\n",
    "import time\n",
    "import os\n",
    "from scrape_utils import get_tm_team_links, get_tm_team_squad"
   ]
  },
  {
   "cell_type": "markdown",
   "metadata": {},
   "source": [
    "# Scrape transfermarkt data for the big-5 leagues"
   ]
  },
  {
   "cell_type": "markdown",
   "metadata": {},
   "source": [
    "Get the links for each football team in the big-5 leagues for the 2019 season"
   ]
  },
  {
   "cell_type": "code",
   "execution_count": 2,
   "metadata": {},
   "outputs": [
    {
     "name": "stdout",
     "output_type": "stream",
     "text": [
      "Number of teams: 98\n"
     ]
    }
   ],
   "source": [
    "league_urls = ['https://www.transfermarkt.com/premier-league/startseite/wettbewerb/GB1/plus/?saison_id=2020',\n",
    "               'https://www.transfermarkt.com/laliga/startseite/wettbewerb/ES1/plus/?saison_id=2020',\n",
    "               'https://www.transfermarkt.com/bundesliga/startseite/wettbewerb/L1/plus/?saison_id=2020',\n",
    "               'https://www.transfermarkt.com/serie-a/startseite/wettbewerb/IT1/plus/?saison_id=2020',\n",
    "               'https://www.transfermarkt.com/ligue-1/startseite/wettbewerb/FR1/plus/?saison_id=2020']\n",
    "\n",
    "team_links = []\n",
    "for url in league_urls:\n",
    "    links = get_tm_team_links(url)\n",
    "    team_links.extend(links)\n",
    "    time.sleep(np.random.uniform(low=2, high=5))\n",
    "    \n",
    "print('Number of teams:', len(team_links))"
   ]
  },
  {
   "cell_type": "markdown",
   "metadata": {},
   "source": [
    "Replace the compact (startseite) with the detailed version (kader). And add on plus/1 to remove some of the extra tables"
   ]
  },
  {
   "cell_type": "code",
   "execution_count": 3,
   "metadata": {},
   "outputs": [],
   "source": [
    "team_links = [s.replace('startseite', 'kader') for s in team_links] \n",
    "# not needed as looking at current season anyway\n",
    "# team_links.extend([f'{s[:-4]}2020' for s in team_links])  # add 2020 pages for latest market values\n",
    "team_links = [f'{l}/plus/1' for l in team_links]"
   ]
  },
  {
   "cell_type": "markdown",
   "metadata": {},
   "source": [
    "Get a dataframe for each team with the player data (big-5 leagues)"
   ]
  },
  {
   "cell_type": "code",
   "execution_count": 4,
   "metadata": {},
   "outputs": [],
   "source": [
    "team_dfs = []\n",
    "for url in team_links:\n",
    "    year = url[-11:-7]\n",
    "    df = get_tm_team_squad(url)\n",
    "    df['year'] = year\n",
    "    fname = os.path.join('data', 'transfermarkt', url.split('/')[3] + '.parquet')\n",
    "    df.to_parquet(fname)\n",
    "    time.sleep(np.random.uniform(low=2, high=5))"
   ]
  }
 ],
 "metadata": {
  "kernelspec": {
   "display_name": "Python 3 (ipykernel)",
   "language": "python",
   "name": "python3"
  },
  "language_info": {
   "codemirror_mode": {
    "name": "ipython",
    "version": 3
   },
   "file_extension": ".py",
   "mimetype": "text/x-python",
   "name": "python",
   "nbconvert_exporter": "python",
   "pygments_lexer": "ipython3",
   "version": "3.7.7"
  }
 },
 "nbformat": 4,
 "nbformat_minor": 4
}
