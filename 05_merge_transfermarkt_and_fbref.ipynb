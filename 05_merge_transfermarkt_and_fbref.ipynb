{
 "cells": [
  {
   "cell_type": "markdown",
   "metadata": {},
   "source": [
    "The notebooks combines the data. It excludes anyone who has played fewer than 675 minutes. We exclude people who are no longer in the in scope league."
   ]
  },
  {
   "cell_type": "code",
   "execution_count": null,
   "metadata": {},
   "outputs": [],
   "source": [
    "import pandas as pd\n",
    "import numpy as np\n",
    "import os\n",
    "import fuzzymatcher\n",
    "from scrape_utils import get_fbref_player_dob\n",
    "import tqdm\n",
    "import random\n",
    "import time"
   ]
  },
  {
   "cell_type": "code",
   "execution_count": null,
   "metadata": {},
   "outputs": [],
   "source": [
    "translations = str.maketrans({'á': 'a',\n",
    "                              'ý': 'y',\n",
    "                              'š': 's',\n",
    "                              'Â': 'A',\n",
    "                              'ó': 'o',\n",
    "                              'í': 'i',\n",
    "                              'Č': 'c',\n",
    "                              'ç': 'c',\n",
    "                              'ú': 'u',\n",
    "                              'é': 'e',\n",
    "                              'ć': 'c',\n",
    "                              'ñ': 'n',\n",
    "                              'Đ': 'D',\n",
    "                              'ê': 'e',\n",
    "                              'Ž': 'Z',\n",
    "                              'ł': 'l',\n",
    "                              'É': 'E',\n",
    "                              'ã': 'a',\n",
    "                              'Ł': 'L',\n",
    "                              'Á': 'A',\n",
    "                              'ž': 'z',\n",
    "                              'ø': 'o',\n",
    "                              'ź': 'z',\n",
    "                              'č': 'c'})"
   ]
  },
  {
   "cell_type": "markdown",
   "metadata": {},
   "source": [
    "# Loading fbref data"
   ]
  },
  {
   "cell_type": "code",
   "execution_count": null,
   "metadata": {},
   "outputs": [],
   "source": [
    "df = pd.read_parquet(os.path.join('data', 'fbref_clean', 'fbref_combined.parquet'))\n",
    "df['player_name'] = df.player.str.replace(\"'\", \"\")\n",
    "# change team names with similar names in different leagues\n",
    "df.loc[((df['squad'] == 'Vitória') &\n",
    "        (df['league'] == 'brazil1')),'squad'] = 'Esporte Clube Vitória'\n",
    "df.loc[((df['squad'] == 'Vitória') &\n",
    "        (df['league'] == 'portugal1')),'squad'] = 'Vitória Guimarães SC'\n",
    "df.loc[(df.squad == 'Atlético') & (df.league == 'mexico1'), 'squad'] = 'Atlético de San Luis'\n",
    "df['player_name'] = df['player_name'].str.translate(translations)"
   ]
  },
  {
   "cell_type": "markdown",
   "metadata": {},
   "source": [
    "# Filter players with 7.5 90s or over (675 minutes). Or who didn't play in the last season in the in scope leagues"
   ]
  },
  {
   "cell_type": "code",
   "execution_count": null,
   "metadata": {},
   "outputs": [],
   "source": [
    "df = df[(df['playing_time_min'] >= 675) & (df['year'] == 2024)].copy()"
   ]
  },
  {
   "cell_type": "markdown",
   "metadata": {},
   "source": [
    "# Loading transfermarkt data"
   ]
  },
  {
   "cell_type": "code",
   "execution_count": null,
   "metadata": {},
   "outputs": [],
   "source": [
    "df_tm = pd.read_parquet(os.path.join('data', 'transfermarkt_clean', 'players_transfermarket.parquet'))\n",
    "df_tm['born'] = df_tm['dob'].dt.year\n",
    "df_tm['player_name'] = df_tm['player'].str.replace(\"'\", \"\")\n",
    "df_tm['player_name'] = df_tm['player_name'].str.translate(translations)"
   ]
  },
  {
   "cell_type": "markdown",
   "metadata": {},
   "source": [
    "# Deduplicate transfermarkt data"
   ]
  },
  {
   "cell_type": "code",
   "execution_count": null,
   "metadata": {},
   "outputs": [],
   "source": [
    "df_tm.sort_values('joined', inplace=True)\n",
    "df_tm.drop_duplicates('player_url', inplace=True, keep='last')"
   ]
  },
  {
   "cell_type": "markdown",
   "metadata": {},
   "source": [
    "# Get common squad name"
   ]
  },
  {
   "cell_type": "code",
   "execution_count": null,
   "metadata": {},
   "outputs": [],
   "source": [
    "team_replace = {'Borussia Mönchengladbach': \"M'gladbach\",\n",
    "                'Stade Brestois 29': 'Brest',\n",
    "                'Stade Rennais FC': 'Rennes',\n",
    "                'Queens Park Rangers': 'QPR',\n",
    "                'CA Boca Juniors': 'Boca Juniors',\n",
    "                'Manchester United': 'Manchester Utd',\n",
    "                'Racing Santander': 'Racing Sant',\n",
    "                'New York City FC': 'NYCFC',\n",
    "                'AA Argentinos Juniors': 'Arg Juniors',\n",
    "                'Club Athletico Paranaense': 'Ath Paranaense',\n",
    "                'Paris Saint-Germain': 'Paris S-G',\n",
    "                'Club Atlético Platense': 'Platense',\n",
    "                'West Bromwich Albion': 'West Brom',\n",
    "                'Sheffield Wednesday': 'Sheffield Weds',\n",
    "                'Sheffield United': 'Sheffield Utd',\n",
    "                'West Ham United': 'West Ham',\n",
    "                'Philadelphia Union': 'Philadelphia',\n",
    "                'Wolverhampton Wanderers': 'Wolves',\n",
    "                'Los Angeles FC': 'LAFC',\n",
    "                'Sporting Kansas City': 'Sporting KC',\n",
    "                'Club Atlético Belgrano': 'Belgrano',\n",
    "                '1.FC Nuremberg': 'Nürnberg',\n",
    "                'Club Atlético Tigre': 'Tigre',\n",
    "                'Atlético de Madrid': 'Atlético Madrid',\n",
    "                'Nottingham Forest': \"Nott'ham Forest\",\n",
    "                'Athletic Bilbao': 'Athletic Club',\n",
    "                'Real Salt Lake City': 'RSL',\n",
    "               }\n",
    "# replacing some team names\n",
    "df_tm['team_name'] = df_tm['team_name'].replace(team_replace)\n",
    "df_team1 = df[['squad']].drop_duplicates().reset_index(drop=True)\n",
    "df_team2 = df_tm[['team_name']].drop_duplicates().reset_index(drop=True)\n",
    "df_team_match = fuzzymatcher.fuzzy_left_join(df_team1,\n",
    "                                             df_team2,\n",
    "                                             left_on=['squad'],\n",
    "                                             right_on=['team_name'])\n",
    "print('Check no team duplicates:', df_team_match.team_name.duplicated(keep=False).sum(),\n",
    "      df_team_match.squad.duplicated(keep=False).sum())\n",
    "print('Check number of teams', df_team_match.team_name.nunique(), df_team_match.squad.nunique())\n",
    "df_tm = df_tm.merge(df_team_match[['squad', 'team_name']], on='team_name')"
   ]
  },
  {
   "cell_type": "markdown",
   "metadata": {},
   "source": [
    "# Matching fbref data to transfermarkt data"
   ]
  },
  {
   "cell_type": "code",
   "execution_count": null,
   "metadata": {},
   "outputs": [],
   "source": [
    "df_player_match = fuzzymatcher.fuzzy_left_join(df[['player_link',\n",
    "                                                   'player_name', 'born', 'squad']],\n",
    "                                               df_tm[['player_url', 'player_name', \n",
    "                                                      'born', 'squad']],\n",
    "                                               left_on=['player_name', 'born'],\n",
    "                                               right_on=['player_name', 'born'],\n",
    "                                               left_id_col='player_link',\n",
    "                                               right_id_col='player_url'\n",
    "                                              )\n",
    "# rules for splitting matches and non-matches\n",
    "mask_match1 = ((df_player_match.squad_left == df_player_match.squad_right) & \n",
    "               ((abs(df_player_match.born_left - df_player_match.born_right) <= 4) |\n",
    "                (df_player_match.born_left.isnull())) &\n",
    "               (df_player_match.best_match_score > -0.04))\n",
    "mask_match2 = ((df_player_match.squad_left != df_player_match.squad_right) & \n",
    "               (df_player_match.born_left == df_player_match.born_right) &\n",
    "               (df_player_match.best_match_score >= 0.1))\n",
    "# found a few errors when checking\n",
    "mismatched = ['/en/players/916728da/Diego-Gomez', \n",
    "              '/en/players/6388eae1/Luismi',\n",
    "              '/en/players/185084a1/Luiz-Felipe',\n",
    "              '/en/players/63969d01/Marlon',\n",
    "              '/en/players/06d4b2e4/Vitinho',\n",
    "              '/en/players/74d4cec6/Vitinha',\n",
    "              '/en/players/02bcaf8e/Bilal-Brahimi',\n",
    "              '/en/players/c9ebe876/Dudu',\n",
    "              '/en/players/35f270b7/Mateus-Cocao',\n",
    "              '/en/players/5475a510/Gabriel-Bares',\n",
    "             ]\n",
    "matched = df_player_match[(mask_match1 | mask_match2) &\n",
    "                          (~df_player_match['player_link'].isin(mismatched))].copy()\n",
    "matched.sort_values('best_match_score', inplace=True)\n",
    "matched.drop_duplicates('__id_right', keep='last', inplace=True)\n",
    "not_matched = df[~df.player_link.isin(matched.__id_left)]\n",
    "print('Number matched:', len(matched), 'Number unmatched:', len(not_matched))\n",
    "print('Check no player duplicates:', matched.__id_left.duplicated(keep=False).sum(),\n",
    "      matched.__id_right.duplicated(keep=False).sum())"
   ]
  },
  {
   "cell_type": "markdown",
   "metadata": {},
   "source": [
    "# For unmatched data matching get the more detailed biographical data from fbref (player name and dob)"
   ]
  },
  {
   "cell_type": "code",
   "execution_count": null,
   "metadata": {},
   "outputs": [],
   "source": [
    "links = not_matched.player_link.tolist()\n",
    "links2 = [f'https://fbref.com{s}' for s in links]"
   ]
  },
  {
   "cell_type": "code",
   "execution_count": null,
   "metadata": {},
   "outputs": [],
   "source": [
    "# commented out as only need to run once\n",
    "#names_list = []\n",
    "#dob_list = []\n",
    "#squad_list = []\n",
    "#for url in tqdm.tqdm(links2):\n",
    "#    name, dob, squad = get_fbref_player_dob(url)\n",
    "#    names_list.append(name)\n",
    "#    dob_list.append(dob)\n",
    "#    squad_list.append(squad)\n",
    "#    time.sleep(random.randint(10, 30))\n",
    "#df_name_dob = pd.DataFrame({'player_link': links,\n",
    "#                            'player': names_list,\n",
    "#                            'dob': dob_list,\n",
    "#                            'squad': squad_list})\n",
    "#df_name_dob.to_parquet(os.path.join('data', 'fbref', 'fbref_name_dob.parquet'))"
   ]
  },
  {
   "cell_type": "code",
   "execution_count": null,
   "metadata": {},
   "outputs": [],
   "source": [
    "# if this fails you probably need to run the cell above without comments\n",
    "df_name_dob = pd.read_parquet(os.path.join('data', 'fbref', 'fbref_name_dob.parquet'))"
   ]
  },
  {
   "cell_type": "markdown",
   "metadata": {},
   "source": [
    "# Merge on the more detailed biographical data"
   ]
  },
  {
   "cell_type": "code",
   "execution_count": null,
   "metadata": {},
   "outputs": [],
   "source": [
    "# merging based on player name and date of birth\n",
    "df_player_match2 = fuzzymatcher.fuzzy_left_join(df_name_dob,\n",
    "                                                df_tm[['player_url', 'player_name', \n",
    "                                                      'dob', 'squad']],\n",
    "                                                left_on=['player', 'dob'],\n",
    "                                                right_on=['player_name', 'dob'],\n",
    "                                                left_id_col='player_link',\n",
    "                                                right_id_col='player_url')\n",
    "# rules for splitting matches and non-matches\n",
    "mask_match = ((((df_player_match2['dob_left'] == df_player_match2['dob_right']) &\n",
    "              (df_player_match2['best_match_score'] > 0)) |\n",
    "              ((df_player_match2['dob_left'] == df_player_match2['dob_right']) &\n",
    "               (df_player_match2['squad_left'] == df_player_match2['squad_right']))) &\n",
    "               # mismatched\n",
    "               (~df_player_match2['player'].isin(['William Sands',\n",
    "                                                  'Gonzalo Requena',\n",
    "                                                  'Frankie Amaya']))\n",
    "              )\n",
    "matched2 = df_player_match2[mask_match].copy()\n",
    "not_matched2 = df_player_match2[~mask_match].copy()\n",
    "print('Number matched:', len(matched2), 'Number unmatched:', len(not_matched2))"
   ]
  },
  {
   "cell_type": "markdown",
   "metadata": {},
   "source": [
    "# Manually get unmatched players"
   ]
  },
  {
   "cell_type": "code",
   "execution_count": null,
   "metadata": {},
   "outputs": [],
   "source": [
    "fb_links = ['/en/players/0841f1d8/Jorge-Zarfino',\n",
    "            '/en/players/d4808594/Jon-Magunacelaya',\n",
    "            '/en/players/f4187ac3/Leonel-Picco',\n",
    "            '/en/players/bae360fd/Gyan-de-Regt',\n",
    "            '/en/players/d21268c5/Mattia-Maita',\n",
    "            '/en/players/c533d4d3/Anthony-Roncaglia',\n",
    "            '/en/players/3828f130/Javier-Guerra',\n",
    "            '/en/players/640b4170/Alejandro-Sancris',\n",
    "            '/en/players/8b364abd/Igor-Marques',\n",
    "            '/en/players/db867065/Hildeberto-Pereira',\n",
    "            '/en/players/68796d61/Shinji-Okazaki',\n",
    "            '/en/players/868c0f75/Marcelo-Barovero',\n",
    "            '/en/players/71c980b7/Zaid-Romero',\n",
    "            '/en/players/6ebe6cc1/Luan-Garcia',\n",
    "            '/en/players/d0f01217/Jose-Hugo',\n",
    "            '/en/players/960a4473/William-Sands',\n",
    "            '/en/players/4292d55e/Tomas-Fernandez',\n",
    "            '/en/players/cc5c5985/Joao-Pedro',\n",
    "            '/en/players/cdf65d12/Marlon',\n",
    "            '/en/players/d75471eb/Joao-Pedro-Pepe',\n",
    "            '/en/players/188537d3/Aboubakary-Kante',\n",
    "            '/en/players/39e9c09a/Walter-Montoya',\n",
    "            '/en/players/0a7d98ae/Santiago-Lopez',\n",
    "            '/en/players/abe841b4/Angelo-Marchese',\n",
    "            '/en/players/0f978661/Gonzalo-Requena',\n",
    "            '/en/players/14b61b88/Rodrigo-Saravia',\n",
    "            '/en/players/8c4e56cb/Francisco-Jesus-Crespo-Garcia',\n",
    "            '/en/players/4abe30fa/Fidel-Barajas',\n",
    "            '/en/players/6fefa986/Carlos-Eduardo',\n",
    "            '/en/players/d9b9b71a/Eulanio-Angelo-Chipela-Gomes',\n",
    "            '/en/players/2083298b/Alix-Vinicius',\n",
    "            '/en/players/80dbbd10/Simeon-Nwankwo',\n",
    "            '/en/players/218d336c/Dairon-Asprilla',\n",
    "            '/en/players/a1216563/Emiliano-Rigoni',\n",
    "            '/en/players/56fca564/Daniel-Bandeira',\n",
    "            '/en/players/8d3d3b0a/Giorgos-Giakoumakis',\n",
    "            '/en/players/4f8a9f70/Kervin-Arriaga',\n",
    "            '/en/players/3ea1862e/Miguel-Magalhaes',\n",
    "            '/en/players/91c2ee76/Matheusinho',\n",
    "            '/en/players/7687b9dd/Jo',\n",
    "            '/en/players/3e9ae1db/Julian-Carranza',\n",
    "            '/en/players/0db5d2c8/Mathias-Jorgensen',\n",
    "            '/en/players/cfb29823/Danny-Ward',\n",
    "            '/en/players/071b6ba9/Goncalo-Rodrigues',\n",
    "            '/en/players/ebbc1dfb/Ricardo-Guimaraes',\n",
    "            '/en/players/3778339c/Aidan-Morris',\n",
    "            '/en/players/7942a27b/Mascarenhas',\n",
    "            '/en/players/b333b014/Jose-Luis-Rodriguez',\n",
    "            '/en/players/2e8bd00c/Frankie-Amaya',\n",
    "            '/en/players/0a9a98f7/Jose-Garcia',\n",
    "            '/en/players/2c56a792/Nicolas-Gonzalez',\n",
    "            '/en/players/4c2a65a8/Manuel-Manu',\n",
    "            '/en/players/4e2da7f7/Jose-Carlos',\n",
    "            '/en/players/a2b25407/Fawaz-Al-Sqoor',\n",
    "            '/en/players/2475cf9b/Juan-Brandariz',\n",
    "            '/en/players/e3510f7e/David-Pastor',\n",
    "            '/en/players/70cf63ca/Rafa-Silva',\n",
    "            '/en/players/6a8a7af8/Vinicius-Souza',\n",
    "            '/en/players/3024e383/Jose-Angel',\n",
    "            '/en/players/4d395e2b/Jack-Rudoni',\n",
    "            '/en/players/27dc1378/Jose-Luis-Garcia-Vaya',\n",
    "            '/en/players/12207ec1/Gonzalo-Escobar',\n",
    "            '/en/players/91e7fc9a/Matias-Garcia',\n",
    "            '/en/players/b7b6ff9b/Nunez',\n",
    "            '/en/players/06d4b2e4/Vitinho',\n",
    "            '/en/players/74d4cec6/Vitinha',\n",
    "            '/en/players/c9ebe876/Dudu',\n",
    "           ]\n",
    "tm_links = ['/giovanni-zarfino/profil/spieler/208022',\n",
    "            '/jon-magunazelaia/profil/spieler/625655',\n",
    "            'leonel-picco/profil/spieler/663077',\n",
    "            '/gyan-de-regt/profil/spieler/747243',\n",
    "            '/mattia-maita/profil/spieler/167470',\n",
    "            '/anthony-roncaglia/profil/spieler/651979',\n",
    "            '/javi-guerra/profil/spieler/834764',\n",
    "            '/alex-sancris/profil/spieler/560705',\n",
    "            '/igor-formiga/profil/spieler/688690',\n",
    "            '/berto/profil/spieler/290384',\n",
    "            '/shinji-okazaki/profil/spieler/79642',\n",
    "            '/marcelo-barovero/profil/spieler/55142',\n",
    "            '/zaid-romero/profil/spieler/741142',\n",
    "            '/luan/profil/spieler/178984',\n",
    "            '/ze-hugo/profil/spieler/940479',\n",
    "            '/will-sands/profil/spieler/393327',\n",
    "            '/tomas-fernandez/profil/spieler/613364',\n",
    "            '/jptm/profil/spieler/1083970',\n",
    "            '/marlon/profil/spieler/273236',\n",
    "            '/pepe/profil/spieler/606716',\n",
    "            '/abou-kante/profil/spieler/315095',\n",
    "            '/walter-montoya/profil/spieler/267420',\n",
    "            '/santiago-lopez/profil/spieler/1000687',\n",
    "            '/angelo-marchese/profil/spieler/1264276',\n",
    "            '/gonzalo-requena/profil/spieler/1120902',\n",
    "            '/rodrigo-saravia/profil/spieler/750753',\n",
    "            '/pejino/profil/spieler/534379',\n",
    "            '/fidel-barajas/profil/spieler/994267',\n",
    "            '/cadu/profil/spieler/1083073',\n",
    "            '/nanu/profil/spieler/291399',\n",
    "            '/alix/profil/spieler/880217',\n",
    "            '/simy/profil/spieler/194549',\n",
    "            '/dairon-asprilla/profil/spieler/260381',\n",
    "            '/emiliano-rigoni/profil/spieler/282544',\n",
    "            '/dani-silva/profil/spieler/372445',\n",
    "            '/georgios-giakoumakis/profil/spieler/234850',\n",
    "            '/kervin-arriaga/profil/spieler/526050',\n",
    "            '/maga/profil/spieler/729140',\n",
    "            '/matheuzinho/profil/spieler/365368',\n",
    "            '/jotm/profil/spieler/401931',\n",
    "            '/julian-carranza/profil/spieler/491707',\n",
    "            '/zanka/profil/spieler/52059',\n",
    "            '/danny-ward/profil/spieler/124172',\n",
    "            '/guga/profil/spieler/258034',\n",
    "            '/guima/profil/spieler/305425',\n",
    "            '/aidan-morris/profil/spieler/513968',\n",
    "            '/masca/profil/spieler/606720',\n",
    "            '/puma/profil/spieler/425028',\n",
    "            '/frankie-amaya/profil/spieler/575368',\n",
    "            '/jose-juan-manriquez/profil/spieler/352552',\n",
    "            '/nico-gonzalez/profil/spieler/466805',\n",
    "            '/manu/profil/spieler/699592',\n",
    "            '/ze-carlos/profil/spieler/617679',\n",
    "            '/fawaz-al-sqoor/profil/spieler/364450',\n",
    "            '/chumi/profil/spieler/333361',\n",
    "            '/pastor/profil/spieler/740498',\n",
    "            '/rafa/profil/spieler/238055',\n",
    "            '/vini-souza/profil/spieler/663581',\n",
    "            '/cote/profil/spieler/87469',\n",
    "            '/jack-rudoni/profil/spieler/662476',\n",
    "            '/pepelu/profil/spieler/328480',\n",
    "            '/gonzalo-escobar/profil/spieler/440377',\n",
    "            '/matias-garcia/profil/spieler/267393',\n",
    "            '/alvaro-nunez/profil/spieler/626953',\n",
    "            '/vitinho/profil/spieler/670965',\n",
    "            '/vitinha/profil/spieler/586853',\n",
    "            '/dudu/profil/spieler/691811',\n",
    "           ]\n",
    "matched3 = pd.DataFrame({'player_link': fb_links, 'player_url': tm_links})"
   ]
  },
  {
   "cell_type": "markdown",
   "metadata": {},
   "source": [
    "# Combine matches into a single table of links"
   ]
  },
  {
   "cell_type": "code",
   "execution_count": null,
   "metadata": {},
   "outputs": [],
   "source": [
    "all_matched = pd.concat([matched3,\n",
    "                         matched2[['player_link', 'player_url']],\n",
    "                         matched[['player_link', 'player_url']]])\n",
    "all_matched.rename({'player_link': 'player_link_fbref',\n",
    "                    'player_url': 'player_link_tm'},\n",
    "                   axis='columns', inplace=True)\n",
    "print('Check no duplicated fbref links:',\n",
    "      all_matched.duplicated('player_link_fbref', keep=False).sum())\n",
    "print('Check no duplicated transfermarkt links:',\n",
    "      all_matched.duplicated('player_link_tm', keep=False).sum())\n",
    "print('Number of matched:', len(all_matched), '/ Number of original fbref:', len(df))"
   ]
  },
  {
   "cell_type": "markdown",
   "metadata": {},
   "source": [
    "# Filter matched datasets"
   ]
  },
  {
   "cell_type": "code",
   "execution_count": null,
   "metadata": {},
   "outputs": [],
   "source": [
    "df_tm = df_tm[df_tm.player_url.isin(all_matched.player_link_tm)].copy()\n",
    "df = df[df.player_link.isin(all_matched.player_link_fbref)].copy()\n",
    "print(len(df_tm), len(df)) \n",
    "# note a few players have moved out of the leagues so aren't in the transfermarkt data any more"
   ]
  },
  {
   "cell_type": "markdown",
   "metadata": {},
   "source": [
    "# Calculate age at 1st July 2024"
   ]
  },
  {
   "cell_type": "code",
   "execution_count": null,
   "metadata": {},
   "outputs": [],
   "source": [
    "df_tm['age_at_2024_07_01'] =  np.round((pd.to_datetime('2024-07-01') - df_tm.dob).dt.days / 365.25, 1)"
   ]
  },
  {
   "cell_type": "markdown",
   "metadata": {},
   "source": [
    "# Format and save dataframe"
   ]
  },
  {
   "cell_type": "code",
   "execution_count": null,
   "metadata": {},
   "outputs": [],
   "source": [
    "df_tm.drop(['team_name', 'player_name', 'born', \n",
    "            'player', 'contract', 'year', 'current_club'], axis='columns', inplace=True)\n",
    "df_tm.rename({'player_url': 'player_link'}, axis='columns', inplace=True)\n",
    "df_tm.columns = [c+'_tm' for c in df_tm.columns]\n",
    "df_tm = df_tm.merge(all_matched, how='inner', validate='1:1', on='player_link_tm')\n",
    "df.drop('player_name', axis='columns', inplace=True)\n",
    "df.rename({'player_link': 'player_link_fbref'}, axis='columns', inplace=True)\n",
    "df = df.merge(df_tm, how='inner', on='player_link_fbref', validate='1:1')\n",
    "df.to_parquet(os.path.join('data', 'fbref_tm_combined.parquet'))"
   ]
  },
  {
   "cell_type": "code",
   "execution_count": null,
   "metadata": {},
   "outputs": [],
   "source": [
    "df.info(verbose=True, show_counts=True)"
   ]
  }
 ],
 "metadata": {
  "kernelspec": {
   "display_name": "Python 3 (ipykernel)",
   "language": "python",
   "name": "python3"
  },
  "language_info": {
   "codemirror_mode": {
    "name": "ipython",
    "version": 3
   },
   "file_extension": ".py",
   "mimetype": "text/x-python",
   "name": "python",
   "nbconvert_exporter": "python",
   "pygments_lexer": "ipython3",
   "version": "3.12.4"
  }
 },
 "nbformat": 4,
 "nbformat_minor": 4
}
