{
 "cells": [
  {
   "cell_type": "code",
   "execution_count": 1,
   "metadata": {},
   "outputs": [],
   "source": [
    "import requests\n",
    "from bs4 import BeautifulSoup\n",
    "import pandas as pd\n",
    "import numpy as np\n",
    "import time"
   ]
  },
  {
   "cell_type": "markdown",
   "metadata": {},
   "source": [
    "Functions for getting the data"
   ]
  },
  {
   "cell_type": "code",
   "execution_count": 2,
   "metadata": {},
   "outputs": [],
   "source": [
    "# headers for web scraping\n",
    "headers = {'User-Agent': ('Mozilla/5.0 (Macintosh; Intel Mac OS X 10_10_1) AppleWebKit/537.36 (KHTML, like Gecko) '\n",
    "                          'Chrome/39.0.2171.95 Safari/537.36')}\n",
    "\n",
    "def get_links(url, headers):\n",
    "    \"\"\"Get links for each team page.\"\"\"\n",
    "    r = requests.get(url, headers=headers)\n",
    "    soup = BeautifulSoup(r.content, 'html.parser')\n",
    "    table = soup.find_all('table')[3]\n",
    "    links = table.find_all('a', class_='vereinprofil_tooltip')\n",
    "    links = [l['href'] for l in links]\n",
    "    links = list(set(links))\n",
    "    links = [f'https://www.transfermarkt.com{l}' for l in links]\n",
    "    return links\n",
    "\n",
    "def get_team_df(url, headers):\n",
    "    \"\"\"Get a dataframe of the players in each team and their monetary values.\"\"\"\n",
    "    team_name = url[30: 30 + url[30:].find('/')]\n",
    "    r = requests.get(url, headers=headers)\n",
    "    r.encoding = 'unicode-escape'\n",
    "    soup = BeautifulSoup(r.content, 'html.parser')\n",
    "    dataframes = pd.read_html(str(soup))\n",
    "    df = dataframes[1].copy()\n",
    "    cols = ['#', 'Unnamed: 2', 'Date of birth / Age', 'Market value']\n",
    "    df[cols] = df[cols].ffill()\n",
    "    df = df.drop_duplicates(cols, keep='last')\n",
    "    df.drop('Nat.', inplace=True, axis=1)\n",
    "    df['team_name'] = team_name\n",
    "    return df"
   ]
  },
  {
   "cell_type": "markdown",
   "metadata": {},
   "source": [
    "Get the links for each football team in the top-5 leagues for the 2019 season"
   ]
  },
  {
   "cell_type": "code",
   "execution_count": 3,
   "metadata": {},
   "outputs": [
    {
     "name": "stdout",
     "output_type": "stream",
     "text": [
      "Number of teams: 98\n"
     ]
    }
   ],
   "source": [
    "league_urls = ['https://www.transfermarkt.com/premier-league/startseite/wettbewerb/GB1/plus/?saison_id=2019',\n",
    "               'https://www.transfermarkt.com/laliga/startseite/wettbewerb/ES1/plus/?saison_id=2019',\n",
    "               'https://www.transfermarkt.com/bundesliga/startseite/wettbewerb/L1/plus/?saison_id=2019',\n",
    "               'https://www.transfermarkt.com/serie-a/startseite/wettbewerb/IT1/plus/?saison_id=2019',\n",
    "               'https://www.transfermarkt.com/ligue-1/startseite/wettbewerb/FR1/plus/?saison_id=2019']\n",
    "\n",
    "team_links = []\n",
    "for url in league_urls:\n",
    "    links = get_links(url, headers)\n",
    "    team_links.extend(links)\n",
    "    time.sleep(np.random.uniform(low=2, high=5))\n",
    "    \n",
    "print('Number of teams:', len(team_links))"
   ]
  },
  {
   "cell_type": "markdown",
   "metadata": {},
   "source": [
    "Get a dataframe with all the player data for the top-5 leagues"
   ]
  },
  {
   "cell_type": "code",
   "execution_count": 4,
   "metadata": {},
   "outputs": [],
   "source": [
    "team_dfs = []\n",
    "for url in team_links:\n",
    "    df = get_team_df(url, headers)\n",
    "    team_dfs.append(df)   \n",
    "    time.sleep(np.random.uniform(low=2, high=5))\n",
    "df_all_players = pd.concat(team_dfs)"
   ]
  },
  {
   "cell_type": "markdown",
   "metadata": {},
   "source": [
    "Format the dataframe"
   ]
  },
  {
   "cell_type": "code",
   "execution_count": 5,
   "metadata": {},
   "outputs": [],
   "source": [
    "df_all_players.reset_index(drop=True, inplace=True)\n",
    "df_all_players.columns = ['number', 'position', 'player', 'dob_age', 'market_value_euros', 'team_name']\n",
    "df_all_players['number'] = pd.to_numeric(df_all_players.number, errors='coerce')\n",
    "# market value to numeric\n",
    "df_all_players['market_value_euros'] = df_all_players.market_value_euros.str.replace('€', '')\n",
    "mask_million = df_all_players.market_value_euros.str[-1] == 'm'\n",
    "mask_thousand = df_all_players.market_value_euros.str[-3:] == 'Th.'\n",
    "df_all_players['market_value_euros'] = df_all_players.market_value_euros.str.replace('Th.', '').str.replace('m', '')\n",
    "df_all_players['market_value_euros'] = pd.to_numeric(df_all_players.market_value_euros, errors='coerce')\n",
    "df_all_players.loc[mask_million, 'market_value_euros'] = df_all_players.loc[mask_million, 'market_value_euros'] * (10**6)\n",
    "df_all_players.loc[mask_thousand, 'market_value_euros'] = df_all_players.loc[mask_thousand, 'market_value_euros'] * (10**3)\n",
    "# split date of birth/ age columns\n",
    "df_all_players['dob_age'] = df_all_players.dob_age.str.split(pat='(')\n",
    "df_all_players['dob'] = pd.to_datetime(df_all_players.dob_age.apply(lambda x: x[0]))\n",
    "df_all_players['age'] =pd.to_numeric(df_all_players.dob_age.apply(lambda x: x[1].replace(')', '')), errors='coerce')\n",
    "df_all_players.drop('dob_age', axis=1, inplace=True)"
   ]
  },
  {
   "cell_type": "markdown",
   "metadata": {},
   "source": [
    "Save the dataframe"
   ]
  },
  {
   "cell_type": "code",
   "execution_count": 6,
   "metadata": {},
   "outputs": [],
   "source": [
    "df_all_players.to_parquet('transfermarket_big5_1920.parquet')"
   ]
  }
 ],
 "metadata": {
  "kernelspec": {
   "display_name": "Python 3",
   "language": "python",
   "name": "python3"
  },
  "language_info": {
   "codemirror_mode": {
    "name": "ipython",
    "version": 3
   },
   "file_extension": ".py",
   "mimetype": "text/x-python",
   "name": "python",
   "nbconvert_exporter": "python",
   "pygments_lexer": "ipython3",
   "version": "3.8.5"
  }
 },
 "nbformat": 4,
 "nbformat_minor": 4
}
