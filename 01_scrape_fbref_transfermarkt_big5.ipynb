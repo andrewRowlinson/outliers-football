{
 "cells": [
  {
   "cell_type": "code",
   "execution_count": null,
   "metadata": {},
   "outputs": [],
   "source": [
    "import requests\n",
    "from bs4 import BeautifulSoup\n",
    "import pandas as pd\n",
    "import numpy as np\n",
    "import time\n",
    "import os\n",
    "from scrape_utils import get_fbref_big5, get_tm_team_links, get_tm_team_squad, format_tm_market_value"
   ]
  },
  {
   "cell_type": "markdown",
   "metadata": {},
   "source": [
    "# Scrape fbref big-5 league data"
   ]
  },
  {
   "cell_type": "markdown",
   "metadata": {},
   "source": [
    "There are several different pages for the big five leagues. Scrape them in a loop and save them as parquet files <br>\n",
    "First the current season:"
   ]
  },
  {
   "cell_type": "code",
   "execution_count": null,
   "metadata": {},
   "outputs": [],
   "source": [
    "# current season urls\n",
    "urls_current = ['https://fbref.com/en/comps/Big5/stats/players/Big-5-European-Leagues-Stats',\n",
    "                'https://fbref.com/en/comps/Big5/shooting/players/Big-5-European-Leagues-Stats',\n",
    "                'https://fbref.com/en/comps/Big5/passing/players/Big-5-European-Leagues-Stats',\n",
    "                'https://fbref.com/en/comps/Big5/passing_types/players/Big-5-European-Leagues-Stats',\n",
    "                'https://fbref.com/en/comps/Big5/defense/players/Big-5-European-Leagues-Stats',\n",
    "                'https://fbref.com/en/comps/Big5/gca/players/Big-5-European-Leagues-Stats',\n",
    "                'https://fbref.com/en/comps/Big5/possession/players/Big-5-European-Leagues-Stats',\n",
    "                'https://fbref.com/en/comps/Big5/playingtime/players/Big-5-European-Leagues-Stats',\n",
    "                'https://fbref.com/en/comps/Big5/misc/players/Big-5-European-Leagues-Stats']\n",
    "out_current = ['stats-20', 'shooting-20', 'passing-20', 'passing_types-20',\n",
    "               'defence-20', 'gca-20', 'possession-20', 'playingtime-20', 'misc-20']\n",
    "# scrape and save the files\n",
    "for i, url in enumerate(urls_current):\n",
    "    df = get_fbref_big5(url)\n",
    "    df.to_parquet(os.path.join('data', 'raw', 'fbref', f'fbref_{out_current[i]}.parquet'))\n",
    "    time.sleep(60)"
   ]
  },
  {
   "cell_type": "markdown",
   "metadata": {},
   "source": [
    "Previous seasons next:"
   ]
  },
  {
   "cell_type": "code",
   "execution_count": null,
   "metadata": {},
   "outputs": [],
   "source": [
    "# previous season urls\n",
    "urls_history = ['https://fbref.com/en/comps/Big5/2019-2020/stats/players/2019-2020-Big-5-European-Leagues-Stats',\n",
    "                'https://fbref.com/en/comps/Big5/2019-2020/shooting/players/2019-2020-Big-5-European-Leagues-Stats',\n",
    "                'https://fbref.com/en/comps/Big5/2019-2020/passing/players/2019-2020-Big-5-European-Leagues-Stats',\n",
    "                'https://fbref.com/en/comps/Big5/2019-2020/passing_types/players/2019-2020-Big-5-European-Leagues-Stats',\n",
    "                'https://fbref.com/en/comps/Big5/2019-2020/defense/players/2019-2020-Big-5-European-Leagues-Stats',\n",
    "                'https://fbref.com/en/comps/Big5/2019-2020/gca/players/2019-2020-Big-5-European-Leagues-Stats',\n",
    "                'https://fbref.com/en/comps/Big5/2019-2020/possession/players/2019-2020-Big-5-European-Leagues-Stats',\n",
    "                'https://fbref.com/en/comps/Big5/2019-2020/playingtime/players/2019-2020-Big-5-European-Leagues-Stats',\n",
    "                'https://fbref.com/en/comps/Big5/2019-2020/misc/players/2019-2020-Big-5-European-Leagues-Stats']\n",
    "urls_history.extend([url.replace('2019-2020', '2018-2019') for url in urls_history])\n",
    "out_history = ['stats-19', 'shooting-19', 'passing-19', 'passing_types-19',\n",
    "               'defence-19', 'gca-19', 'possession-19', 'playingtime-19', 'misc-19']\n",
    "out_history.extend([o.replace('19', '18') for o in out_history])\n",
    "# scrape and save the files\n",
    "for i, url in enumerate(urls_history):\n",
    "    df = get_fbref_big5(url)\n",
    "    df.to_parquet(os.path.join('data', 'raw', 'fbref', f'fbref_{out_history[i]}.parquet'))\n",
    "    time.sleep(60)"
   ]
  },
  {
   "cell_type": "markdown",
   "metadata": {},
   "source": [
    "# Scrape transfermarkt data for the big-5 leagues"
   ]
  },
  {
   "cell_type": "markdown",
   "metadata": {},
   "source": [
    "Get the links for each football team in the big-5 leagues for the 2019 season"
   ]
  },
  {
   "cell_type": "code",
   "execution_count": null,
   "metadata": {},
   "outputs": [],
   "source": [
    "league_urls = ['https://www.transfermarkt.com/premier-league/startseite/wettbewerb/GB1/plus/?saison_id=2021',\n",
    "               'https://www.transfermarkt.com/laliga/startseite/wettbewerb/ES1/plus/?saison_id=2021',\n",
    "               'https://www.transfermarkt.com/bundesliga/startseite/wettbewerb/L1/plus/?saison_id=2021',\n",
    "               'https://www.transfermarkt.com/serie-a/startseite/wettbewerb/IT1/plus/?saison_id=2021',\n",
    "               'https://www.transfermarkt.com/ligue-1/startseite/wettbewerb/FR1/plus/?saison_id=2021']\n",
    "\n",
    "team_links = []\n",
    "for url in league_urls:\n",
    "    links = get_tm_team_links(url)\n",
    "    team_links.extend(links)\n",
    "    time.sleep(np.random.uniform(low=2, high=5))\n",
    "    \n",
    "print('Number of teams:', len(team_links))"
   ]
  },
  {
   "cell_type": "markdown",
   "metadata": {},
   "source": [
    "Replace the compact (startseite) link with the detailed version (kader). And add on plus/1 to remove some of the extra tables"
   ]
  },
  {
   "cell_type": "code",
   "execution_count": null,
   "metadata": {},
   "outputs": [],
   "source": [
    "team_links = [s.replace('startseite', 'kader') for s in team_links] \n",
    "# not needed as looking at current season anyway\n",
    "#team_links.extend([f'{s[:-4]}2020' for s in team_links])  # add 2020 pages for latest market values\n",
    "team_links = [f'{l}/plus/1' for l in team_links]"
   ]
  },
  {
   "cell_type": "markdown",
   "metadata": {},
   "source": [
    "Get a dataframe with all the player data for the big-5 leagues"
   ]
  },
  {
   "cell_type": "code",
   "execution_count": null,
   "metadata": {},
   "outputs": [],
   "source": [
    "team_dfs = []\n",
    "for url in team_links:\n",
    "    year = url[-11:-7]\n",
    "    df = get_tm_team_squad(url)\n",
    "    df['year'] = year\n",
    "    team_dfs.append(df)   \n",
    "    time.sleep(np.random.uniform(low=2, high=5))\n",
    "df_all_players = pd.concat(team_dfs)"
   ]
  },
  {
   "cell_type": "markdown",
   "metadata": {},
   "source": [
    "Format the player dataframe and save it as a parquet file"
   ]
  },
  {
   "cell_type": "code",
   "execution_count": null,
   "metadata": {},
   "outputs": [],
   "source": [
    "df_all_players.reset_index(drop=True, inplace=True)\n",
    "df_all_players['number'] = pd.to_numeric(df_all_players.number, errors='coerce')\n",
    "df_all_players = format_tm_market_value(df_all_players)\n",
    "# format date columns\n",
    "df_all_players['dob'] = pd.to_datetime(df_all_players['dob_age'].str.split(pat='(').str[0], errors='coerce')\n",
    "df_all_players['joined'] = pd.to_datetime(df_all_players['joined'], errors='coerce')\n",
    "df_all_players['contract_expires'] = pd.to_datetime(df_all_players['contract_expires'], errors='coerce')\n",
    "df_all_players.drop(['dob_age'], axis=1, inplace=True)\n",
    "df_all_players['height'] = pd.to_numeric(df_all_players['height'].str.replace('m', '').str.replace(',','.'))\n",
    "df_all_players.to_parquet(os.path.join('data', 'raw', 'transfermarkt', 'players_transfermarkt.parquet'))"
   ]
  }
 ],
 "metadata": {
  "kernelspec": {
   "display_name": "Python 3",
   "language": "python",
   "name": "python3"
  },
  "language_info": {
   "codemirror_mode": {
    "name": "ipython",
    "version": 3
   },
   "file_extension": ".py",
   "mimetype": "text/x-python",
   "name": "python",
   "nbconvert_exporter": "python",
   "pygments_lexer": "ipython3",
   "version": "3.7.9"
  }
 },
 "nbformat": 4,
 "nbformat_minor": 4
}
