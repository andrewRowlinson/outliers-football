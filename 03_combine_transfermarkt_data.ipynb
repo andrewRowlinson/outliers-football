{
 "cells": [
  {
   "cell_type": "code",
   "execution_count": 1,
   "metadata": {},
   "outputs": [],
   "source": [
    "import pandas as pd\n",
    "import numpy as np\n",
    "import os\n",
    "import glob"
   ]
  },
  {
   "cell_type": "markdown",
   "metadata": {},
   "source": [
    "# Combine and format the transfermarkt data"
   ]
  },
  {
   "cell_type": "markdown",
   "metadata": {},
   "source": [
    "Combine team files into one dataframe"
   ]
  },
  {
   "cell_type": "code",
   "execution_count": 2,
   "metadata": {},
   "outputs": [],
   "source": [
    "files = glob.glob(os.path.join('data', 'transfermarkt', '*'))\n",
    "team_dfs = []\n",
    "for file in files:\n",
    "    team_dfs.append(pd.read_parquet(file))\n",
    "df_all_players = pd.concat(team_dfs)\n",
    "df_all_players.reset_index(drop=True, inplace=True)"
   ]
  },
  {
   "cell_type": "markdown",
   "metadata": {},
   "source": [
    "Player number from string to numeric"
   ]
  },
  {
   "cell_type": "code",
   "execution_count": 3,
   "metadata": {},
   "outputs": [],
   "source": [
    "df_all_players['number'] = pd.to_numeric(df_all_players.number, errors='coerce')"
   ]
  },
  {
   "cell_type": "markdown",
   "metadata": {},
   "source": [
    "# You might need to edit this. As the transfermarkt value format depends on your location (mine is in euros)"
   ]
  },
  {
   "cell_type": "code",
   "execution_count": 4,
   "metadata": {},
   "outputs": [],
   "source": [
    "# you might need to localise these values\n",
    "mask_thousand = df_all_players['market_value'].str[-3:] == 'Th.'\n",
    "df_all_players['market_value'] = (df_all_players['market_value']\n",
    "                                  .str.replace('€', '', regex=False)\n",
    "                                  .str.replace('Th.', '', regex=False)\n",
    "                                  .str.replace('m', '', regex=False))\n",
    "df_all_players['market_value'] = pd.to_numeric(df_all_players['market_value'], errors='coerce')\n",
    "df_all_players.loc[mask_thousand, 'market_value'] = df_all_players.loc[mask_thousand, 'market_value'] / 1000\n",
    "df_all_players.rename({'market_value': 'market_value_euro_millions'}, axis='columns', inplace=True)"
   ]
  },
  {
   "cell_type": "markdown",
   "metadata": {},
   "source": [
    "Format date/ height columns"
   ]
  },
  {
   "cell_type": "code",
   "execution_count": 5,
   "metadata": {},
   "outputs": [],
   "source": [
    "df_all_players['dob'] = pd.to_datetime(df_all_players['dob_age'].str.split(pat='(').str[0], errors='coerce')\n",
    "df_all_players['joined'] = pd.to_datetime(df_all_players['joined'], errors='coerce')\n",
    "df_all_players['contract_expires'] = pd.to_datetime(df_all_players['contract_expires'], errors='coerce')\n",
    "df_all_players.drop(['dob_age'], axis=1, inplace=True)\n",
    "df_all_players['height'] = pd.to_numeric(df_all_players['height'].str.replace('m', '').str.replace(',','.'))"
   ]
  },
  {
   "cell_type": "markdown",
   "metadata": {},
   "source": [
    "Save the data"
   ]
  },
  {
   "cell_type": "code",
   "execution_count": 6,
   "metadata": {},
   "outputs": [],
   "source": [
    "df_all_players.to_parquet(os.path.join('data', 'players_transfermarket.parquet'))"
   ]
  }
 ],
 "metadata": {
  "kernelspec": {
   "display_name": "Python 3 (ipykernel)",
   "language": "python",
   "name": "python3"
  },
  "language_info": {
   "codemirror_mode": {
    "name": "ipython",
    "version": 3
   },
   "file_extension": ".py",
   "mimetype": "text/x-python",
   "name": "python",
   "nbconvert_exporter": "python",
   "pygments_lexer": "ipython3",
   "version": "3.7.7"
  }
 },
 "nbformat": 4,
 "nbformat_minor": 4
}
