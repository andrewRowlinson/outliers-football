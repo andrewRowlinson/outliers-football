{
 "cells": [
  {
   "cell_type": "code",
   "execution_count": null,
   "metadata": {},
   "outputs": [],
   "source": [
    "import pandas as pd\n",
    "import numpy as np\n",
    "import os\n",
    "import glob"
   ]
  },
  {
   "cell_type": "markdown",
   "metadata": {},
   "source": [
    "# Combine and format the transfermarkt data"
   ]
  },
  {
   "cell_type": "markdown",
   "metadata": {},
   "source": [
    "Combine team files into one dataframe"
   ]
  },
  {
   "cell_type": "code",
   "execution_count": null,
   "metadata": {},
   "outputs": [],
   "source": [
    "files = glob.glob(os.path.join('data', 'transfermarkt', 'players', '*'))\n",
    "len(files)"
   ]
  },
  {
   "cell_type": "code",
   "execution_count": null,
   "metadata": {},
   "outputs": [],
   "source": [
    "df = pd.concat([pd.read_parquet(file) for file in files])\n",
    "df.reset_index(drop=True, inplace=True)\n",
    "len(df)"
   ]
  },
  {
   "cell_type": "markdown",
   "metadata": {},
   "source": [
    "Format jersey number"
   ]
  },
  {
   "cell_type": "code",
   "execution_count": null,
   "metadata": {},
   "outputs": [],
   "source": [
    "df['jersey_number'] = df['jersey_number'].replace('-', None)"
   ]
  },
  {
   "cell_type": "markdown",
   "metadata": {},
   "source": [
    "# You might need to edit this. As the transfermarkt value format depends on your location (mine is in euros)"
   ]
  },
  {
   "cell_type": "code",
   "execution_count": null,
   "metadata": {},
   "outputs": [],
   "source": [
    "mask_thousand = df['market_value'].str.strip().str[-1] == 'k'\n",
    "df['market_value'] = (df['market_value']\n",
    "                      .replace('-', None)\n",
    "                      .str.strip()\n",
    "                      .str.replace('€', '', regex=False)\n",
    "                      .str.replace('m', '', regex=False)\n",
    "                      .str.replace('k', '', regex=False)\n",
    "                     )\n",
    "df['market_value'] = pd.to_numeric(df['market_value'])\n",
    "df.loc[mask_thousand, 'market_value'] = df.loc[mask_thousand, 'market_value'] / 1000\n",
    "df.rename({'market_value': 'market_value_euro_millions'}, axis='columns', inplace=True)"
   ]
  },
  {
   "cell_type": "markdown",
   "metadata": {},
   "source": [
    "Format date/ height columns"
   ]
  },
  {
   "cell_type": "code",
   "execution_count": null,
   "metadata": {},
   "outputs": [],
   "source": [
    "df['dob'] = pd.to_datetime(df['date_of_birth_and_age'].str.split(pat='(').str[0], errors='coerce')\n",
    "df['joined'] = pd.to_datetime(df['joined'], errors='coerce')\n",
    "df.drop(['date_of_birth_and_age'], axis='columns', inplace=True)\n",
    "df['height'] = pd.to_numeric(df['height'].replace('-', None).str.replace('m', '').str.replace(',','.'))\n",
    "df['contract'] = pd.to_datetime(df['contract'].replace('-', None))"
   ]
  },
  {
   "cell_type": "markdown",
   "metadata": {},
   "source": [
    "Save the data"
   ]
  },
  {
   "cell_type": "code",
   "execution_count": null,
   "metadata": {},
   "outputs": [],
   "source": [
    "os.makedirs(os.path.join('data', 'transfermarkt_clean'), exist_ok=True)\n",
    "df.to_parquet(os.path.join('data', 'transfermarkt_clean', 'players_transfermarket.parquet'))"
   ]
  }
 ],
 "metadata": {
  "kernelspec": {
   "display_name": "Python 3 (ipykernel)",
   "language": "python",
   "name": "python3"
  },
  "language_info": {
   "codemirror_mode": {
    "name": "ipython",
    "version": 3
   },
   "file_extension": ".py",
   "mimetype": "text/x-python",
   "name": "python",
   "nbconvert_exporter": "python",
   "pygments_lexer": "ipython3",
   "version": "3.12.4"
  }
 },
 "nbformat": 4,
 "nbformat_minor": 4
}
