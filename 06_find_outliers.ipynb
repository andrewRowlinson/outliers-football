{
 "cells": [
  {
   "cell_type": "code",
   "execution_count": null,
   "metadata": {},
   "outputs": [],
   "source": [
    "import pandas as pd\n",
    "import numpy as np\n",
    "from sklearn.ensemble import IsolationForest\n",
    "from sklearn.ensemble._iforest import _average_path_length\n",
    "import shap\n",
    "from scipy.spatial.distance import squareform\n",
    "from scipy.cluster.hierarchy import linkage, dendrogram\n",
    "import matplotlib.pyplot as plt\n",
    "import os\n",
    "from pandas.api.types import is_numeric_dtype\n",
    "pd.set_option('display.max_columns', None)"
   ]
  },
  {
   "cell_type": "markdown",
   "metadata": {},
   "source": [
    "# Loading combined fbref/ transfermarkt data"
   ]
  },
  {
   "cell_type": "code",
   "execution_count": null,
   "metadata": {},
   "outputs": [],
   "source": [
    "df = pd.read_parquet(os.path.join('data', 'fbref_tm_combined.parquet'))"
   ]
  },
  {
   "cell_type": "code",
   "execution_count": null,
   "metadata": {},
   "outputs": [],
   "source": [
    "# Drop some negative columns that you might not want to identify players based on, e.g. number of yellow cards.\n",
    "# penalties are rare so they tend to show up a lot in the outliers so removed for showing more interesting things\n",
    "to_drop = ['performance_off', 'performance_crdy', 'performance_2crdy',\n",
    "           'performance_crdr', 'performance_fls',\n",
    "           'performance_og', 'performance_pkcon', 'performance_pkwon',\n",
    "           'standard_fk', 'pass_types_fk', \n",
    "           'outcomes_off', \n",
    "           'outcomes_blocks', 'standard_pk', \n",
    "           'short_att',\n",
    "           'challenges_lost',\n",
    "           'year',\n",
    "           'take_ons_tkld',\n",
    "           'expected_np_g_minus_xg',\n",
    "           #'vs_dribbles_att',\n",
    "           #'playing_time_mn/mp',\n",
    "           #'outcomes_out', 'outcomes_int',\n",
    "           #'pass_types_press',\n",
    "           #'body_parts_right', 'body_parts_other',\n",
    "           #'body_parts_head',\n",
    "           #'a-xa',\n",
    "           #'expected_np:g-xg',\n",
    "           'aerial_duels_lost', 'carries_mis', 'carries_dis', 'err', 'standard_pkatt']\n",
    "df.drop(to_drop, axis='columns', inplace=True)"
   ]
  },
  {
   "cell_type": "markdown",
   "metadata": {},
   "source": [
    "# Drop centre backs / goalkeepers"
   ]
  },
  {
   "cell_type": "markdown",
   "metadata": {},
   "source": [
    "Centre-back stats are notoriously hard and goalkeepers are judged differently so we drop them here."
   ]
  },
  {
   "cell_type": "code",
   "execution_count": null,
   "metadata": {},
   "outputs": [],
   "source": [
    "mask_remove = (((df.position_tm == 'Centre-Back') | (df.position_tm == 'Goalkeeper')) &\n",
    "               ((df.pos.str.contains('GK')) | (df.pos.str.contains('DF'))))\n",
    "df = df[~mask_remove].copy()\n",
    "gk_cols = ['performance_sota', 'performance_saves', 'performance_w',\n",
    "           'performance_d', 'performance_l', 'performance_cs',\n",
    "           'penalty_kicks_pkatt', 'penalty_kicks_pksv', 'penalty_kicks_pkm',\n",
    "           'goals_ga', 'goals_pka', 'goals_fk', 'goals_ck', 'goals_og',\n",
    "           'expected_psxg', 'expected_psxg_sot', 'expected_psxg_plus_minus',\n",
    "           'launched_cmp', 'launched_att', 'passes_att_gk', 'passes_thr',\n",
    "           'passes_avglen', 'goal_kicks_att', 'goal_kicks_avglen', 'crosses_opp',\n",
    "           'crosses_stp', 'sweeper_opa', 'sweeper_avgdist',\n",
    "           'crosses_stp_percent', 'launched_cmp_percent', 'performance_cs_percent',\n",
    "           'penalty_kicks_save_percent',\n",
    "          ]\n",
    "df.drop(gk_cols, axis='columns', inplace=True)"
   ]
  },
  {
   "cell_type": "markdown",
   "metadata": {},
   "source": [
    "# Drop players with fewer than 675 minutes played over last 3 years"
   ]
  },
  {
   "cell_type": "markdown",
   "metadata": {},
   "source": [
    "This is an arbitrary cut-off point (around 7.5 games)"
   ]
  },
  {
   "cell_type": "code",
   "execution_count": null,
   "metadata": {},
   "outputs": [],
   "source": [
    "# commented out as already done in the 05_merge_transfermarkt_and_fbref notebook\n",
    "#df = df[df.playing_time_min >= 675].copy()\n",
    "#df.reset_index(drop=True, inplace=True)"
   ]
  },
  {
   "cell_type": "markdown",
   "metadata": {},
   "source": [
    "# Add a code for the transfermarkt position"
   ]
  },
  {
   "cell_type": "markdown",
   "metadata": {},
   "source": [
    "Note there is some disagreement between fbref and transfermarkt positions but it is broadly the same"
   ]
  },
  {
   "cell_type": "code",
   "execution_count": null,
   "metadata": {},
   "outputs": [],
   "source": [
    "df.loc[df.position_tm.str.contains('Midfield'), 'position_code'] = 0\n",
    "df.loc[df.position_tm.str.contains('Back'), 'position_code'] = 1\n",
    "df.loc[df.position_tm.str.contains('Striker'), 'position_code'] = 2\n",
    "df.loc[df.position_tm.str.contains('Winger'), 'position_code'] = 2\n",
    "df.loc[df.position_tm.str.contains('Forward'), 'position_code'] = 2"
   ]
  },
  {
   "cell_type": "markdown",
   "metadata": {},
   "source": [
    "# Reset the index"
   ]
  },
  {
   "cell_type": "code",
   "execution_count": null,
   "metadata": {},
   "outputs": [],
   "source": [
    "df.reset_index(drop=True, inplace=True)"
   ]
  },
  {
   "cell_type": "markdown",
   "metadata": {},
   "source": [
    "# Check for highly correlated columns and drop them"
   ]
  },
  {
   "cell_type": "code",
   "execution_count": null,
   "metadata": {},
   "outputs": [],
   "source": [
    "corr_cols = ['pass_types_live', 'medium_att', 'total_att',\n",
    "             'receiving_rec', 'long_att', 'medium_cmp_percent',\n",
    "             'pass_types_crs',\n",
    "             'touches_def_pen',  'tackles_tkl', 'blocks_pass', \n",
    "             'tackles_mid_3rd', \n",
    "             'expected_xg',\n",
    "             'standard_sh',  'standard_g/sot', \n",
    "             'expected_g_minus_xg', 'kp', 'sca_types_passlive',\n",
    "             'team_success_plus_minus','gca_types_passlive', 'team_success_ong',\n",
    "              'carries_totdist', 'medium_cmp',\n",
    "             'total_cmp', 'tkl_plus_int', 'team_success_xg_onxg', 'standard_sot',\n",
    "             'touches_mid_3rd',\n",
    "             'corner_kicks_in', 'corner_kicks_out', 'corner_kicks_str',\n",
    "             'touches_def_3rd', 'team_success_onga', 'take_ons_succ',\n",
    "             'gca_gca','gca_types_passdead', 'sca_sca', 'standard_gls',\n",
    "             'ast', 'pass_types_dead',\n",
    "             'gca_types_to', 'gca_types_sh', 'gca_types_fld',\n",
    "             'short_cmp_percent', 'total_totdist', 'total_cmp_percent', 'challenges_att',\n",
    "             # decided to get rid of gca_types_def as all the other gca are gone and I am \n",
    "             # thinking this is not as correlated with sca_types_def as there are relatively fewer\n",
    "             # sca_types_def so there is more variance in the goals\n",
    "             'gca_types_def',\n",
    "             'performance_g_plus_a',\n",
    "             'expected_npxg_plus_xag', 'performance_g_minus_pk',  'touches_att_pen',\n",
    "             'expected_a_minus_xag',\n",
    "             'carries_1_3', 'carries_prgdist',\n",
    "             'long_cmp', 'touches_live', 'take_ons_att', 'pass_types_ck',\n",
    "             'pass_types_ti', 'outcomes_cmp', \n",
    "             'touches_touches']"
   ]
  },
  {
   "cell_type": "code",
   "execution_count": null,
   "metadata": {},
   "outputs": [],
   "source": [
    "numeric_cols = [col for col in df.columns if is_numeric_dtype(df[col])]\n",
    "ignore_cols = ['age', 'born', 'playing_time_mp', 'playing_time_min',\n",
    "               'playing_time_90s', 'starts_compl', 'subs_subs',\n",
    "               'subs_unsub', 'height_tm', 'market_value_euro_millions_tm',\n",
    "               'age_at_2024_07_01_tm', 'position_code', 'playing_time_starts']\n",
    "for col in ignore_cols:\n",
    "    numeric_cols.remove(col)"
   ]
  },
  {
   "cell_type": "code",
   "execution_count": null,
   "metadata": {},
   "outputs": [],
   "source": [
    "# https://stackoverflow.com/questions/34175462/dendrogram-using-pandas-and-scipy\n",
    "corr_condensed = squareform(1 - df[numeric_cols].corr())\n",
    "z = linkage(corr_condensed, method='average')\n",
    "fig, ax = plt.subplots(figsize=(16, 50))\n",
    "labels = list(df[numeric_cols].columns)\n",
    "dend = dendrogram(z, orientation='left', labels=labels, leaf_font_size=16, ax=ax)\n",
    "for label in ax.get_yticklabels():\n",
    "    if label.get_text() in corr_cols:\n",
    "        label.set_color('red')"
   ]
  },
  {
   "cell_type": "code",
   "execution_count": null,
   "metadata": {},
   "outputs": [],
   "source": [
    "df.drop(corr_cols, axis='columns', inplace=True)"
   ]
  },
  {
   "cell_type": "markdown",
   "metadata": {},
   "source": [
    "Rename columns to more descriptive names"
   ]
  },
  {
   "cell_type": "code",
   "execution_count": null,
   "metadata": {},
   "outputs": [],
   "source": [
    "rename_cols = {'team_success_xg_onxga': 'xG allowed by team while on pitch',\n",
    "               'team_success_xg_xg_plus_minus': 'xG scored minus allowed by team while on pitch',               \n",
    "               'tackles_tklw': 'tackles won',\n",
    "               'tackles_def_3rd': 'tackles (def 3rd)',\n",
    "               'tackles_att_3rd': 'tackles (att 3rd)',\n",
    "               'challenges_tkl': 'dribblers tackled',\n",
    "               'blocks_blocks': 'blocks',\n",
    "               'blocks_sh': 'shots blocked',\n",
    "               'int': 'interceptions',\n",
    "               'clr': 'clearances',\n",
    "               'sca_types_passdead': 'dead-ball pass leading to a shot attempt',\n",
    "               'sca_types_to': 'dribbles leading to a shot attempt',\n",
    "               'sca_types_sh': 'shots leading to another shot attempt',\n",
    "               'sca_types_fld': 'fouls drawn leading to a shot attempt',\n",
    "               'sca_types_def': 'defensive actions leading to a shot attempt',\n",
    "               'performance_fld': 'fouls drawn',\n",
    "               'performance_recov': 'ball recoveries',\n",
    "               'aerial_duels_won': 'aerial duels won',\n",
    "               'total_prgdist': 'progressive passing distance',\n",
    "               'short_cmp': 'short passes completed (#)',               \n",
    "               'expected_xa': 'expected assists',  \n",
    "               'xag': 'expected assisted goals',    \n",
    "               '1_3': 'passes into final third',\n",
    "               'ppa': 'passes into penalty area',               \n",
    "               'crspa': 'crosses into penalty area',\n",
    "               'pass_types_tb': 'through balls',\n",
    "               'pass_types_sw': 'switches',\n",
    "               'touches_att_3rd': 'touches (# att 3rd)',\n",
    "               'carries_carries': 'carries (#)',\n",
    "               'carries_prgc': 'carries progressive distance',              \n",
    "               'carries_cpa': 'carries into penalty area',\n",
    "               'receiving_prgr': 'progressive passes received (#)',\n",
    "               'prgp': 'progressive passes (#)',\n",
    "               'expected_npxg': 'xG (non-penalty)',\n",
    "               'standard_dist': 'shot distance (average)',\n",
    "               'challenges_tkl_percent': '% of dribblers tackled',\n",
    "               'aerial_duels_won_percent': '% of aerials won',\n",
    "               'long_cmp_percent': '% of long passes completed',\n",
    "               'take_ons_succ_percent': '% of dribbles successful',\n",
    "               'standard_g/sh': 'goals per shot',\n",
    "               'expected_npxg/sh': 'xG per shot (non-penalty)',\n",
    "               'standard_sot_percent': '% of shots on target',\n",
    "               'position_code': 'position',\n",
    "              }\n",
    "df.rename(rename_cols, axis=1, inplace=True)"
   ]
  },
  {
   "cell_type": "markdown",
   "metadata": {},
   "source": [
    "# Change some values as we don't want to flag people as outliers for their poor stats (truncate stats for bottom quantile if more is better or top quantile if fewer is better)"
   ]
  },
  {
   "cell_type": "code",
   "execution_count": null,
   "metadata": {},
   "outputs": [],
   "source": [
    "X = df[list(rename_cols.values())]\n",
    "X_copy = X.copy() # Store copy before modifying\n",
    "X = X.fillna(0)\n",
    "cols_fewer_better = ['xG allowed by team while on pitch', 'shot distance (average)']\n",
    "cols_more_better = list(set(X.columns) - set(cols_fewer_better) - set(['position']))\n",
    "# for goals allowed stats if in the top 50% change the value\n",
    "value_1 = 0.5\n",
    "mask1 = X[cols_fewer_better] > X[cols_fewer_better].quantile(value_1)\n",
    "# for other stats is in the bottom 40% change value\n",
    "value_2 = 0.4\n",
    "mask2 = X[cols_more_better] < X[cols_more_better].quantile(value_2)\n",
    "mask = pd.concat([mask1, mask2], axis='columns')\n",
    "quantile_values = pd.concat([X[cols_fewer_better].quantile(value_1), X[cols_more_better].quantile(value_2)])\n",
    "X.mask(mask, quantile_values, axis='columns', inplace=True)\n",
    "# replace a couple of average distances that are zero with the maximum distance\n",
    "# so we don't flag them up as outliers (they had zero shots)\n",
    "max_dist = X['shot distance (average)'].max()\n",
    "X.loc[X['shot distance (average)'] == 0, 'shot distance (average)'] = max_dist"
   ]
  },
  {
   "cell_type": "markdown",
   "metadata": {},
   "source": [
    "# Find outliers using isolation forest"
   ]
  },
  {
   "cell_type": "code",
   "execution_count": null,
   "metadata": {},
   "outputs": [],
   "source": [
    "clf = IsolationForest(random_state=42, contamination=0.1)\n",
    "y_pred = clf.fit(X)\n",
    "forest_score = clf.score_samples(X)"
   ]
  },
  {
   "cell_type": "markdown",
   "metadata": {},
   "source": [
    "# Calculate shap values (to explain the outliers)"
   ]
  },
  {
   "cell_type": "code",
   "execution_count": null,
   "metadata": {},
   "outputs": [],
   "source": [
    "explainer = shap.TreeExplainer(clf)\n",
    "shap_values = explainer.shap_values(X)\n",
    "df_shap = pd.DataFrame(shap_values, columns=X.columns)"
   ]
  },
  {
   "cell_type": "markdown",
   "metadata": {},
   "source": [
    "# Round to 1/2 decimal places"
   ]
  },
  {
   "cell_type": "code",
   "execution_count": null,
   "metadata": {},
   "outputs": [],
   "source": [
    "cols_round_int = ['progressive passing distance', 'short passes completed (#)',\n",
    "                  'touches (# att 3rd)',\n",
    "                  'carries (#)', 'carries progressive distance', \n",
    "                  'progressive passes received (#)', 'shot distance (average)',\n",
    "                  '% of dribblers tackled',\n",
    "                  '% of aerials won', '% of long passes completed',\n",
    "                  '% of dribbles successful', '% of shots on target']\n",
    "other_cols = list(set(X_copy.columns) - set(cols_round_int) - set(['position']))\n",
    "X_copy[cols_round_int] = X_copy[cols_round_int].round(1)\n",
    "X_copy[other_cols] = X_copy[other_cols].round(2)"
   ]
  },
  {
   "cell_type": "markdown",
   "metadata": {},
   "source": [
    "# Calculate percentiles for each player based on position (back, midfield, forward)"
   ]
  },
  {
   "cell_type": "code",
   "execution_count": null,
   "metadata": {},
   "outputs": [],
   "source": [
    "X_position_percentile = ((X_copy\n",
    "                         .fillna(0)\n",
    "                         .groupby('position')[X_copy.columns[:-1]]\n",
    "                         .rank(pct=True) * 100).round(0).astype(np.int32))\n",
    "X_position_percentile['position'] = np.nan\n",
    "# reverse where better is lower\n",
    "X_position_percentile['xG allowed by team while on pitch'] = 100 - X_position_percentile['xG allowed by team while on pitch']\n",
    "X_position_percentile['shot distance (average)'] = 100 - X_position_percentile['shot distance (average)']\n",
    "# if zero shot distance (typically didn't take any shots) set the percentile to zero\n",
    "X_position_percentile.loc[X_copy['shot distance (average)'] == 0, 'shot distance (average)'] = 0"
   ]
  },
  {
   "cell_type": "markdown",
   "metadata": {},
   "source": [
    "# Get lower (0.05) and upper (0.95) quantile values for each position"
   ]
  },
  {
   "cell_type": "code",
   "execution_count": null,
   "metadata": {},
   "outputs": [],
   "source": [
    "upper = X_copy.groupby('position')[X_copy.columns[:-1]].quantile(0.95)\n",
    "upper.index = ['midfield_upper', 'back_upper', 'forward_upper']\n",
    "lower = X_copy.groupby('position')[X_copy.columns[:-1]].quantile(0.05)\n",
    "lower.index = ['midfield_lower', 'back_lower', 'forward_lower']\n",
    "# swap xG allowed as lower is better!\n",
    "swap_col = 'xG allowed by team while on pitch'\n",
    "swap_upper = upper[swap_col].values.copy()\n",
    "swap_lower = lower[swap_col].values.copy()\n",
    "lower[swap_col] = swap_upper\n",
    "upper[swap_col] = swap_lower\n",
    "# concatenate\n",
    "df_quantile = pd.concat([lower, upper])\n",
    "df_quantile.sort_index(inplace=True)"
   ]
  },
  {
   "cell_type": "markdown",
   "metadata": {},
   "source": [
    "# Get the column names contributing to the the smallest (most negative) difference and their values"
   ]
  },
  {
   "cell_type": "code",
   "execution_count": null,
   "metadata": {},
   "outputs": [],
   "source": [
    "# https://stackoverflow.com/questions/48764923/find-the-column-name-which-has-the-2nd-maximum-value-for-each-row-pandas\n",
    "sort_arr = np.argsort(df_shap.values, axis=1)\n",
    "df_stat_name = pd.DataFrame(np.array(df_shap.columns)[sort_arr], index=df_shap.index,\n",
    "                            columns=[f'stat_{i}_name' for i in range(1, sort_arr.shape[1] + 1)])\n",
    "# then get values\n",
    "sort_arr = (sort_arr.T + (np.arange(0, sort_arr.shape[0]) * sort_arr.shape[1])).T\n",
    "df_stat_values = pd.DataFrame(X_copy.values.ravel()[sort_arr].reshape(X_copy.shape),\n",
    "                              columns=[f'stat_{i}_value' for i in range(1, sort_arr.shape[1] + 1)])\n",
    "df_percentile_values = pd.DataFrame(X_position_percentile.values.ravel()[sort_arr].reshape(X_position_percentile.shape),\n",
    "                                    columns=[f'stat_{i}_percentile' for i in range(1, sort_arr.shape[1] + 1)])\n",
    "\n",
    "# merge them together\n",
    "df_stat_values = df_stat_name.merge(df_stat_values, left_index=True, right_index=True)\n",
    "df_stat_values = df_stat_values.merge(df_percentile_values, left_index=True, right_index=True)\n",
    "# reorder the columns so it goes stat name then value, stat name then value, etc.\n",
    "num_col = sort_arr.shape[1]\n",
    "col_order = np.repeat(np.arange(num_col), 3) + np.tile(np.array([0, num_col, num_col * 2]), num_col)\n",
    "col_order = df_stat_values.columns[col_order]\n",
    "df_stat_values = df_stat_values[col_order].copy()"
   ]
  },
  {
   "cell_type": "markdown",
   "metadata": {},
   "source": [
    "# Create final dataframe"
   ]
  },
  {
   "cell_type": "code",
   "execution_count": null,
   "metadata": {},
   "outputs": [],
   "source": [
    "keep_cols = [c for c in df.columns if c not in rename_cols.values()]\n",
    "df = df[keep_cols].copy()\n",
    "df['outlier_score'] = forest_score\n",
    "df = df.merge(df_stat_values, left_index=True, right_index=True, validate='1:1')\n",
    "df.loc[df.position_tm.str.contains('Midfield'), 'position'] = 'midfield'\n",
    "df.loc[df.position_tm.str.contains('Back'), 'position'] = 'back'\n",
    "df.loc[df.position_tm.str.contains('Striker'), 'position'] = 'forward'\n",
    "df.loc[df.position_tm.str.contains('Winger'), 'position'] = 'forward'\n",
    "df.loc[df.position_tm.str.contains('Forward'), 'position'] = 'forward'"
   ]
  },
  {
   "cell_type": "markdown",
   "metadata": {},
   "source": [
    "# Backs where their position contributes towards them being an outlier"
   ]
  },
  {
   "cell_type": "code",
   "execution_count": null,
   "metadata": {},
   "outputs": [],
   "source": [
    "index_interesting_defenders = df_shap[(df['position'] == 'back') & (df_shap['position'] < 0)].index\n",
    "df[df.index.isin(index_interesting_defenders)]"
   ]
  },
  {
   "cell_type": "markdown",
   "metadata": {},
   "source": [
    "# Midfield where their position contributes most towards them being an outlier"
   ]
  },
  {
   "cell_type": "code",
   "execution_count": null,
   "metadata": {},
   "outputs": [],
   "source": [
    "index_interesting_defenders = df_shap[(df['position'] == 'midfield') &\n",
    "                                      (df_shap['position'] < 0)].sort_values('position').index\n",
    "df[df.index.isin(index_interesting_defenders)].head(10)"
   ]
  },
  {
   "cell_type": "markdown",
   "metadata": {},
   "source": [
    "# Wingers/ forwards where their position contributes most towards them being an outlier"
   ]
  },
  {
   "cell_type": "code",
   "execution_count": null,
   "metadata": {},
   "outputs": [],
   "source": [
    "index_interesting_defenders = df_shap[(df['position'] == 'forward') &\n",
    "                                      (df_shap['position'] < 0)].sort_values('position').index\n",
    "df[df.index.isin(index_interesting_defenders)].head(10)"
   ]
  },
  {
   "cell_type": "markdown",
   "metadata": {},
   "source": [
    "# Sort by the score"
   ]
  },
  {
   "cell_type": "code",
   "execution_count": null,
   "metadata": {},
   "outputs": [],
   "source": [
    "df.sort_values('outlier_score', inplace=True)\n",
    "df.reset_index(drop=True, inplace=True)"
   ]
  },
  {
   "cell_type": "markdown",
   "metadata": {},
   "source": [
    "# Rename some columns"
   ]
  },
  {
   "cell_type": "code",
   "execution_count": null,
   "metadata": {},
   "outputs": [],
   "source": [
    "df.rename({'jersey_number_tm': 'jersey_number_transfermarkt',\n",
    "           'player_tm': 'player_name_transfermarkt',\n",
    "           'nationality_tm': 'nationality_transfermarkt',\n",
    "           'signed_from_tm': 'signed_from_transfermarkt',\n",
    "           'age': 'age_fbref',\n",
    "           'player': 'player_name_fbref',\n",
    "           'dob_tm': 'dob_transfermarkt',\n",
    "           'position_tm': 'position_transfermarkt',\n",
    "           'pos': 'position_fbref',\n",
    "           'height_tm': 'height_transfermarkt',\n",
    "           'foot_tm': 'foot_transfermarkt',\n",
    "           'squad_tm': 'squad_transfermarkt', \n",
    "           'league_tm': 'league_transfermarkt',\n",
    "           'joined_tm': 'joined_transfermarkt',\n",
    "           'market_value_euro_millions_tm': 'market_value_euros_millions_transfermarkt', \n",
    "           'player_link_tm': 'player_link_transfermarkt',\n",
    "           'player_link_fbref': 'player_link_fbref',\n",
    "           'nation': 'nation_fbref',\n",
    "           'squad': 'squad_fbref',\n",
    "           'league': 'league_fbref',\n",
    "           'match_link': 'match_link_fbref',\n",
    "           'age_at_2024_07_01_tm': 'age_years_at_2021_07_01_transfermarkt',\n",
    "           'born': 'born_fbref'},\n",
    "          axis='columns', inplace=True)"
   ]
  },
  {
   "cell_type": "markdown",
   "metadata": {},
   "source": [
    "# Show top 30 outliers"
   ]
  },
  {
   "cell_type": "code",
   "execution_count": null,
   "metadata": {},
   "outputs": [],
   "source": [
    "df.head(30)"
   ]
  },
  {
   "cell_type": "markdown",
   "metadata": {},
   "source": [
    "# Show top 30 outliers aged 26 or under and valued at 15 mill or under"
   ]
  },
  {
   "cell_type": "code",
   "execution_count": null,
   "metadata": {},
   "outputs": [],
   "source": [
    "df[(df.age_years_at_2021_07_01_transfermarkt <= 26) & (df.market_value_euros_millions_transfermarkt <= 15)].head(30)"
   ]
  },
  {
   "cell_type": "markdown",
   "metadata": {},
   "source": [
    "# Show older outliers with a low valuation"
   ]
  },
  {
   "cell_type": "code",
   "execution_count": null,
   "metadata": {},
   "outputs": [],
   "source": [
    "df[(df.market_value_euros_millions_transfermarkt < 5) & (df.age_years_at_2021_07_01_transfermarkt > 26) & \n",
    "   (df.age_years_at_2021_07_01_transfermarkt < 30)].head(15)"
   ]
  },
  {
   "cell_type": "markdown",
   "metadata": {},
   "source": [
    "# Save to excel"
   ]
  },
  {
   "cell_type": "code",
   "execution_count": null,
   "metadata": {},
   "outputs": [],
   "source": [
    "df.to_excel(os.path.join('data', 'outliers.xlsx'))"
   ]
  },
  {
   "cell_type": "code",
   "execution_count": null,
   "metadata": {},
   "outputs": [],
   "source": [
    "df.to_parquet(os.path.join('data', 'outliers.parquet'))\n",
    "df_quantile.to_parquet(os.path.join('data', 'quantiles.parquet'))"
   ]
  }
 ],
 "metadata": {
  "kernelspec": {
   "display_name": "Python 3 (ipykernel)",
   "language": "python",
   "name": "python3"
  },
  "language_info": {
   "codemirror_mode": {
    "name": "ipython",
    "version": 3
   },
   "file_extension": ".py",
   "mimetype": "text/x-python",
   "name": "python",
   "nbconvert_exporter": "python",
   "pygments_lexer": "ipython3",
   "version": "3.12.4"
  }
 },
 "nbformat": 4,
 "nbformat_minor": 4
}
